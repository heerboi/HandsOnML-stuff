{
  "nbformat": 4,
  "nbformat_minor": 0,
  "metadata": {
    "colab": {
      "name": "Hands On ML Chapter 3.ipynb",
      "provenance": [],
      "authorship_tag": "ABX9TyOvIOn9TGSpXDg1AEJuIEYL"
    },
    "kernelspec": {
      "name": "python3",
      "display_name": "Python 3"
    },
    "language_info": {
      "name": "python"
    }
  },
  "cells": [
    {
      "cell_type": "markdown",
      "metadata": {
        "id": "m1SBdp-Bh3Lc"
      },
      "source": [
        "#Hands On Machine Learning Chapter 3\n",
        "#Classification!"
      ]
    },
    {
      "cell_type": "markdown",
      "metadata": {
        "id": "Q5gpmrsAKt_c"
      },
      "source": [
        "We will use the MNIST dataset!"
      ]
    },
    {
      "cell_type": "code",
      "metadata": {
        "id": "QaZ_GO3shpTO"
      },
      "source": [
        "from sklearn.datasets import fetch_openml\n",
        "import numpy as np"
      ],
      "execution_count": null,
      "outputs": []
    },
    {
      "cell_type": "code",
      "metadata": {
        "colab": {
          "base_uri": "https://localhost:8080/"
        },
        "id": "Ka-XjtdbK6o4",
        "outputId": "f46f2196-eeeb-46a4-d424-63c1101e7b02"
      },
      "source": [
        "mnist = fetch_openml('mnist_784', version = 1, as_frame = False)\n",
        "mnist.keys()"
      ],
      "execution_count": null,
      "outputs": [
        {
          "output_type": "execute_result",
          "data": {
            "text/plain": [
              "dict_keys(['data', 'target', 'frame', 'categories', 'feature_names', 'target_names', 'DESCR', 'details', 'url'])"
            ]
          },
          "metadata": {},
          "execution_count": 11
        }
      ]
    },
    {
      "cell_type": "markdown",
      "metadata": {
        "id": "KIHgpW0tK_rc"
      },
      "source": [
        "\n",
        "\n",
        "1.   DESCR -> dataset description\n",
        "2.   data -> one row per example and one column per feature\n",
        "3.   target -> array of labels\n"
      ]
    },
    {
      "cell_type": "code",
      "metadata": {
        "id": "qGFlB4PFK-lE"
      },
      "source": [
        "X, y = mnist[\"data\"], mnist[\"target\"]"
      ],
      "execution_count": null,
      "outputs": []
    },
    {
      "cell_type": "code",
      "metadata": {
        "colab": {
          "base_uri": "https://localhost:8080/"
        },
        "id": "E1ytaX6nLgLZ",
        "outputId": "9c6dbc08-3bc9-4779-e00b-a93d33ec86bf"
      },
      "source": [
        "X.shape"
      ],
      "execution_count": null,
      "outputs": [
        {
          "output_type": "execute_result",
          "data": {
            "text/plain": [
              "(70000, 784)"
            ]
          },
          "metadata": {},
          "execution_count": 13
        }
      ]
    },
    {
      "cell_type": "code",
      "metadata": {
        "colab": {
          "base_uri": "https://localhost:8080/"
        },
        "id": "e8uCLPwuLhDe",
        "outputId": "45d4620c-da37-4c0c-fec0-b58862bd7721"
      },
      "source": [
        "y.shape"
      ],
      "execution_count": null,
      "outputs": [
        {
          "output_type": "execute_result",
          "data": {
            "text/plain": [
              "(70000,)"
            ]
          },
          "metadata": {},
          "execution_count": 14
        }
      ]
    },
    {
      "cell_type": "markdown",
      "metadata": {
        "id": "k7B3XIz9Lil0"
      },
      "source": [
        "> There are 70,000 images and 784 features as each image is 28x28 pixels grayscale.\n",
        "\n",
        "> Each pixel has a value between 0 (white) and 255 (black)."
      ]
    },
    {
      "cell_type": "code",
      "metadata": {
        "colab": {
          "base_uri": "https://localhost:8080/",
          "height": 248
        },
        "id": "99TdJmZxLhlM",
        "outputId": "2be33ec1-110d-4b2b-d025-f88d111e22db"
      },
      "source": [
        "import matplotlib as mpl\n",
        "import matplotlib.pyplot as plt\n",
        "\n",
        "\n",
        "some_digit = X[27]\n",
        "some_digit_image = some_digit.reshape(28, 28)\n",
        "\n",
        "plt.imshow(some_digit_image, cmap = mpl.cm.binary, interpolation = \"nearest\")\n",
        "plt.axis(\"off\")\n",
        "plt.show()"
      ],
      "execution_count": null,
      "outputs": [
        {
          "output_type": "display_data",
          "data": {
            "image/png": "[encoded data removed]",
            "text/plain": [
              "<Figure size 432x288 with 1 Axes>"
            ]
          },
          "metadata": {
            "needs_background": "light"
          }
        }
      ]
    },
    {
      "cell_type": "markdown",
      "metadata": {
        "id": "LBLMqOQMNaBK"
      },
      "source": [
        "That's a 3 if I 'er seen one."
      ]
    },
    {
      "cell_type": "code",
      "metadata": {
        "colab": {
          "base_uri": "https://localhost:8080/",
          "height": 35
        },
        "id": "HHv6rliVMHjD",
        "outputId": "b57507b0-d428-4847-c3b9-8bee814e75da"
      },
      "source": [
        "y[27]"
      ],
      "execution_count": null,
      "outputs": [
        {
          "output_type": "execute_result",
          "data": {
            "application/vnd.google.colaboratory.intrinsic+json": {
              "type": "string"
            },
            "text/plain": [
              "'3'"
            ]
          },
          "metadata": {},
          "execution_count": 17
        }
      ]
    },
    {
      "cell_type": "code",
      "metadata": {
        "id": "1Izq2BfzW04M"
      },
      "source": [
        "y = y.astype(np.uint8)"
      ],
      "execution_count": null,
      "outputs": []
    },
    {
      "cell_type": "markdown",
      "metadata": {
        "id": "mB8RdIefXHYD"
      },
      "source": [
        "This MNIST dataset is already split into 60000 (training) and the last 10000(test) images."
      ]
    },
    {
      "cell_type": "code",
      "metadata": {
        "id": "2s004Gt5W4C7"
      },
      "source": [
        "X_train, X_test, y_train, y_test = X[:60000], X[60000:], y[:60000], y[60000:]"
      ],
      "execution_count": null,
      "outputs": []
    },
    {
      "cell_type": "markdown",
      "metadata": {
        "id": "WKCxG22bc95m"
      },
      "source": [
        "## Binary Classifier\n",
        "\n",
        "\n",
        "Let us start with a simpler task of identifying if the digit is 5 or not."
      ]
    },
    {
      "cell_type": "code",
      "metadata": {
        "id": "-vYHpqECc9bu"
      },
      "source": [
        "y_train_5 = (y_train == 5)\n",
        "y_test_5 = (y_test == 5)"
      ],
      "execution_count": null,
      "outputs": []
    },
    {
      "cell_type": "markdown",
      "metadata": {
        "id": "Inxcn_z2dPW-"
      },
      "source": [
        "First, we will use SGD (Stochastic Gradient Descent) which is capable of handling large data sets and also usable for online learning."
      ]
    },
    {
      "cell_type": "code",
      "metadata": {
        "colab": {
          "base_uri": "https://localhost:8080/"
        },
        "id": "QtToA9JCdNGQ",
        "outputId": "9c04ee3c-7f60-4ce7-a7d9-b18bb58eb2a6"
      },
      "source": [
        "from sklearn.linear_model import SGDClassifier\n",
        "\n",
        "sgd_clf = SGDClassifier(random_state = 42)\n",
        "sgd_clf.fit(X_train, y_train_5)"
      ],
      "execution_count": null,
      "outputs": [
        {
          "output_type": "execute_result",
          "data": {
            "text/plain": [
              "SGDClassifier(random_state=42)"
            ]
          },
          "metadata": {},
          "execution_count": 23
        }
      ]
    },
    {
      "cell_type": "markdown",
      "metadata": {
        "id": "td54lqJIds96"
      },
      "source": [
        "Now, let's test it on a digit."
      ]
    },
    {
      "cell_type": "code",
      "metadata": {
        "colab": {
          "base_uri": "https://localhost:8080/"
        },
        "id": "iuOII7aPdmYV",
        "outputId": "7ca7fc1f-584d-4759-a679-debb6865c155"
      },
      "source": [
        "sgd_clf.predict([some_digit])"
      ],
      "execution_count": null,
      "outputs": [
        {
          "output_type": "execute_result",
          "data": {
            "text/plain": [
              "array([False])"
            ]
          },
          "metadata": {},
          "execution_count": 24
        }
      ]
    },
    {
      "cell_type": "markdown",
      "metadata": {
        "id": "mOGILC9QdxJu"
      },
      "source": [
        "It predicts a 3 as False! so that's correct :3"
      ]
    },
    {
      "cell_type": "markdown",
      "metadata": {
        "id": "WynOAE0pd4dj"
      },
      "source": [
        "# Model Evaluation!\n",
        "\n",
        "1. Cross Validation\n",
        "\n",
        "    **split training set into K-folds with 3 parts training and one part test, and compare those results.**"
      ]
    },
    {
      "cell_type": "code",
      "metadata": {
        "colab": {
          "base_uri": "https://localhost:8080/"
        },
        "id": "x0G0_q7bdwWe",
        "outputId": "1a795800-3f07-4597-c557-8777d985fe4f"
      },
      "source": [
        "from sklearn.model_selection import cross_val_score\n",
        "cross_val_score(sgd_clf, X_train, y_train_5, cv = 3, scoring = \"accuracy\")"
      ],
      "execution_count": null,
      "outputs": [
        {
          "output_type": "execute_result",
          "data": {
            "text/plain": [
              "array([0.95035, 0.96035, 0.9604 ])"
            ]
          },
          "metadata": {},
          "execution_count": 25
        }
      ]
    },
    {
      "cell_type": "markdown",
      "metadata": {
        "id": "f4tS7jXhemHQ"
      },
      "source": [
        "**IMPORTANT:** Accuracy is a metric as the ratio of correct predictions."
      ]
    },
    {
      "cell_type": "markdown",
      "metadata": {
        "id": "4Tjc02Utexi4"
      },
      "source": [
        "Results look good, but before we decide that this is the best classifier, let's look a classifier that predicts all images as not-five."
      ]
    },
    {
      "cell_type": "markdown",
      "metadata": {
        "id": "6rzSnq1Ze84j"
      },
      "source": [
        "### Dumb classifier"
      ]
    },
    {
      "cell_type": "code",
      "metadata": {
        "id": "dYA2TMseekcv"
      },
      "source": [
        "from sklearn.base import BaseEstimator\n",
        "\n",
        "class Never5Classifier(BaseEstimator):\n",
        "    def fit(self, X, y = None):\n",
        "        pass\n",
        "    def predict(self, X):\n",
        "        return np.zeros((len(X), 1), dtype = bool)"
      ],
      "execution_count": null,
      "outputs": []
    },
    {
      "cell_type": "code",
      "metadata": {
        "colab": {
          "base_uri": "https://localhost:8080/"
        },
        "id": "1xVvWiejfNxv",
        "outputId": "3bc34384-1286-4dda-92e5-070d5d16427b"
      },
      "source": [
        "never_5_clf = Never5Classifier()\n",
        "cross_val_score(never_5_clf, X_train, y_train_5, cv = 3, scoring = \"accuracy\")"
      ],
      "execution_count": null,
      "outputs": [
        {
          "output_type": "execute_result",
          "data": {
            "text/plain": [
              "array([0.91125, 0.90855, 0.90915])"
            ]
          },
          "metadata": {},
          "execution_count": 27
        }
      ]
    },
    {
      "cell_type": "markdown",
      "metadata": {
        "id": "baxr4pf3fV9o"
      },
      "source": [
        "wait, what? That's 90% accuracy on a classifier that predicts the same thing EVERYTIME!!!\n",
        "\n",
        "That's because out of 70000 images, **only 10% images are of 5s** while the others are **not 5s**.\n",
        "\n",
        "Hence, if you always predicted that an image is **not 5**, you will be right 90% of times."
      ]
    },
    {
      "cell_type": "code",
      "metadata": {
        "id": "YycbZE9yfVM9"
      },
      "source": [
        "class Always5Classifier(BaseEstimator):\n",
        "    def fit(self, X, y = None):\n",
        "        pass\n",
        "    def predict(self, X):\n",
        "        return np.ones((len(X), 1), dtype = bool)"
      ],
      "execution_count": null,
      "outputs": []
    },
    {
      "cell_type": "code",
      "metadata": {
        "colab": {
          "base_uri": "https://localhost:8080/"
        },
        "id": "FRymUVDJfwnC",
        "outputId": "763a7746-3acd-4c2c-cb22-b63d0a6d6c2a"
      },
      "source": [
        "always_5_clf = Always5Classifier()\n",
        "cross_val_score(always_5_clf, X_train, y_train_5, cv = 3, scoring = \"accuracy\")"
      ],
      "execution_count": null,
      "outputs": [
        {
          "output_type": "execute_result",
          "data": {
            "text/plain": [
              "array([0.08875, 0.09145, 0.09085])"
            ]
          },
          "metadata": {},
          "execution_count": 29
        }
      ]
    },
    {
      "cell_type": "markdown",
      "metadata": {
        "id": "e9vEM5Bnf3vO"
      },
      "source": [
        "As expected, ~8-10% accuracy on a classifier that predicts 5 everytime."
      ]
    },
    {
      "cell_type": "markdown",
      "metadata": {
        "id": "juOv-0E5gtJu"
      },
      "source": [
        "So, this is obviously not a good metric to measure classifier."
      ]
    },
    {
      "cell_type": "code",
      "metadata": {
        "id": "HIgMvu0Ff25o"
      },
      "source": [
        ""
      ],
      "execution_count": null,
      "outputs": []
    }
  ]
}