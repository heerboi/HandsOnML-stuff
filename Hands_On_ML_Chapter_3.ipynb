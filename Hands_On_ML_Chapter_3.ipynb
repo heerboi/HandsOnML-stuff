{
  "nbformat": 4,
  "nbformat_minor": 0,
  "metadata": {
    "colab": {
      "name": "Hands On ML Chapter 3.ipynb",
      "provenance": [],
      "collapsed_sections": [],
      "authorship_tag": "ABX9TyOTutOScJA3EKiZll+qynL2"
    },
    "kernelspec": {
      "name": "python3",
      "display_name": "Python 3"
    },
    "language_info": {
      "name": "python"
    }
  },
  "cells": [
    {
      "cell_type": "markdown",
      "metadata": {
        "id": "m1SBdp-Bh3Lc"
      },
      "source": [
        "#Hands On Machine Learning Chapter 3\n",
        "#Classification!"
      ]
    },
    {
      "cell_type": "markdown",
      "metadata": {
        "id": "Q5gpmrsAKt_c"
      },
      "source": [
        "We will use the MNIST dataset!"
      ]
    },
    {
      "cell_type": "code",
      "metadata": {
        "id": "QaZ_GO3shpTO"
      },
      "source": [
        "from sklearn.datasets import fetch_openml\n",
        "import numpy as np"
      ],
      "execution_count": null,
      "outputs": []
    },
    {
      "cell_type": "code",
      "metadata": {
        "colab": {
          "base_uri": "https://localhost:8080/"
        },
        "id": "Ka-XjtdbK6o4",
        "outputId": "5c15709a-4177-4285-8f30-6af44bf2ba8f"
      },
      "source": [
        "mnist = fetch_openml('mnist_784', version = 1, as_frame = False)\n",
        "mnist.keys()"
      ],
      "execution_count": null,
      "outputs": [
        {
          "output_type": "execute_result",
          "data": {
            "text/plain": [
              "dict_keys(['data', 'target', 'frame', 'categories', 'feature_names', 'target_names', 'DESCR', 'details', 'url'])"
            ]
          },
          "metadata": {},
          "execution_count": 2
        }
      ]
    },
    {
      "cell_type": "markdown",
      "metadata": {
        "id": "KIHgpW0tK_rc"
      },
      "source": [
        "\n",
        "\n",
        "1.   DESCR -> dataset description\n",
        "2.   data -> one row per example and one column per feature\n",
        "3.   target -> array of labels\n"
      ]
    },
    {
      "cell_type": "code",
      "metadata": {
        "id": "qGFlB4PFK-lE"
      },
      "source": [
        "X, y = mnist[\"data\"], mnist[\"target\"]"
      ],
      "execution_count": null,
      "outputs": []
    },
    {
      "cell_type": "code",
      "metadata": {
        "colab": {
          "base_uri": "https://localhost:8080/"
        },
        "id": "E1ytaX6nLgLZ",
        "outputId": "eb7dde14-0c80-4d4a-bf70-13576cce5115"
      },
      "source": [
        "X.shape"
      ],
      "execution_count": null,
      "outputs": [
        {
          "output_type": "execute_result",
          "data": {
            "text/plain": [
              "(70000, 784)"
            ]
          },
          "metadata": {},
          "execution_count": 4
        }
      ]
    },
    {
      "cell_type": "code",
      "metadata": {
        "colab": {
          "base_uri": "https://localhost:8080/"
        },
        "id": "e8uCLPwuLhDe",
        "outputId": "5e5dd3da-1967-4807-b367-2e5fbe4a5c4d"
      },
      "source": [
        "y.shape"
      ],
      "execution_count": null,
      "outputs": [
        {
          "output_type": "execute_result",
          "data": {
            "text/plain": [
              "(70000,)"
            ]
          },
          "metadata": {},
          "execution_count": 5
        }
      ]
    },
    {
      "cell_type": "markdown",
      "metadata": {
        "id": "k7B3XIz9Lil0"
      },
      "source": [
        "> There are 70,000 images and 784 features as each image is 28x28 pixels grayscale.\n",
        "\n",
        "> Each pixel has a value between 0 (white) and 255 (black)."
      ]
    },
    {
      "cell_type": "code",
      "metadata": {
        "colab": {
          "base_uri": "https://localhost:8080/",
          "height": 248
        },
        "id": "99TdJmZxLhlM",
        "outputId": "be298c3e-1eb4-4011-9479-71c1f0b54d05"
      },
      "source": [
        "import matplotlib as mpl\n",
        "import matplotlib.pyplot as plt\n",
        "\n",
        "\n",
        "some_digit = X[27]\n",
        "some_digit_image = some_digit.reshape(28, 28)\n",
        "\n",
        "plt.imshow(some_digit_image, cmap = mpl.cm.binary, interpolation = \"nearest\")\n",
        "plt.axis(\"off\")\n",
        "plt.show()"
      ],
      "execution_count": null,
      "outputs": [
        {
          "output_type": "display_data",
          "data": {
            "image/png": "[encoded data removed]",
            "text/plain": [
              "<Figure size 432x288 with 1 Axes>"
            ]
          },
          "metadata": {
            "needs_background": "light"
          }
        }
      ]
    },
    {
      "cell_type": "markdown",
      "metadata": {
        "id": "LBLMqOQMNaBK"
      },
      "source": [
        "That's a 3 if I 'er seen one."
      ]
    },
    {
      "cell_type": "code",
      "metadata": {
        "colab": {
          "base_uri": "https://localhost:8080/",
          "height": 35
        },
        "id": "HHv6rliVMHjD",
        "outputId": "82765c99-da3b-41bb-fd1d-3ea9236673d7"
      },
      "source": [
        "y[27]"
      ],
      "execution_count": null,
      "outputs": [
        {
          "output_type": "execute_result",
          "data": {
            "application/vnd.google.colaboratory.intrinsic+json": {
              "type": "string"
            },
            "text/plain": [
              "'3'"
            ]
          },
          "metadata": {},
          "execution_count": 7
        }
      ]
    },
    {
      "cell_type": "code",
      "metadata": {
        "id": "1Izq2BfzW04M"
      },
      "source": [
        "y = y.astype(np.uint8)"
      ],
      "execution_count": null,
      "outputs": []
    },
    {
      "cell_type": "markdown",
      "metadata": {
        "id": "mB8RdIefXHYD"
      },
      "source": [
        "This MNIST dataset is already split into 60000 (training) and the last 10000(test) images."
      ]
    },
    {
      "cell_type": "code",
      "metadata": {
        "id": "2s004Gt5W4C7"
      },
      "source": [
        "X_train, X_test, y_train, y_test = X[:60000], X[60000:], y[:60000], y[60000:]"
      ],
      "execution_count": null,
      "outputs": []
    },
    {
      "cell_type": "markdown",
      "metadata": {
        "id": "WKCxG22bc95m"
      },
      "source": [
        "## Binary Classifier\n",
        "\n",
        "\n",
        "Let us start with a simpler task of identifying if the digit is 5 or not."
      ]
    },
    {
      "cell_type": "code",
      "metadata": {
        "id": "-vYHpqECc9bu"
      },
      "source": [
        "y_train_5 = (y_train == 5)\n",
        "y_test_5 = (y_test == 5)"
      ],
      "execution_count": null,
      "outputs": []
    },
    {
      "cell_type": "markdown",
      "metadata": {
        "id": "Inxcn_z2dPW-"
      },
      "source": [
        "First, we will use SGD (Stochastic Gradient Descent) which is capable of handling large data sets and also usable for online learning."
      ]
    },
    {
      "cell_type": "code",
      "metadata": {
        "colab": {
          "base_uri": "https://localhost:8080/"
        },
        "id": "QtToA9JCdNGQ",
        "outputId": "7722683d-d8a1-4700-ab73-1e037e0f51fd"
      },
      "source": [
        "from sklearn.linear_model import SGDClassifier\n",
        "\n",
        "sgd_clf = SGDClassifier(random_state = 42)\n",
        "sgd_clf.fit(X_train, y_train_5)"
      ],
      "execution_count": null,
      "outputs": [
        {
          "output_type": "execute_result",
          "data": {
            "text/plain": [
              "SGDClassifier(random_state=42)"
            ]
          },
          "metadata": {},
          "execution_count": 11
        }
      ]
    },
    {
      "cell_type": "markdown",
      "metadata": {
        "id": "td54lqJIds96"
      },
      "source": [
        "Now, let's test it on a digit."
      ]
    },
    {
      "cell_type": "code",
      "metadata": {
        "colab": {
          "base_uri": "https://localhost:8080/"
        },
        "id": "iuOII7aPdmYV",
        "outputId": "4c628242-dde8-4ac2-cbb6-893146e539da"
      },
      "source": [
        "sgd_clf.predict([some_digit])"
      ],
      "execution_count": null,
      "outputs": [
        {
          "output_type": "execute_result",
          "data": {
            "text/plain": [
              "array([False])"
            ]
          },
          "metadata": {},
          "execution_count": 12
        }
      ]
    },
    {
      "cell_type": "markdown",
      "metadata": {
        "id": "mOGILC9QdxJu"
      },
      "source": [
        "It predicts a 3 as False! so that's correct :3"
      ]
    },
    {
      "cell_type": "markdown",
      "metadata": {
        "id": "WynOAE0pd4dj"
      },
      "source": [
        "# Model Evaluation!\n",
        "\n",
        "1. Cross Validation\n",
        "\n",
        "    **split training set into K-folds with 3 parts training and one part test, and compare those results.**"
      ]
    },
    {
      "cell_type": "code",
      "metadata": {
        "colab": {
          "base_uri": "https://localhost:8080/"
        },
        "id": "x0G0_q7bdwWe",
        "outputId": "0e072040-7d65-4c5f-d09a-fcc305bd1c42"
      },
      "source": [
        "from sklearn.model_selection import cross_val_score\n",
        "cross_val_score(sgd_clf, X_train, y_train_5, cv = 3, scoring = \"accuracy\")"
      ],
      "execution_count": null,
      "outputs": [
        {
          "output_type": "execute_result",
          "data": {
            "text/plain": [
              "array([0.95035, 0.96035, 0.9604 ])"
            ]
          },
          "metadata": {},
          "execution_count": 13
        }
      ]
    },
    {
      "cell_type": "markdown",
      "metadata": {
        "id": "f4tS7jXhemHQ"
      },
      "source": [
        "**IMPORTANT:** Accuracy is a metric as the ratio of correct predictions."
      ]
    },
    {
      "cell_type": "markdown",
      "metadata": {
        "id": "4Tjc02Utexi4"
      },
      "source": [
        "Results look good, but before we decide that this is the best classifier, let's look a classifier that predicts all images as not-five."
      ]
    },
    {
      "cell_type": "markdown",
      "metadata": {
        "id": "6rzSnq1Ze84j"
      },
      "source": [
        "### Dumb classifier"
      ]
    },
    {
      "cell_type": "code",
      "metadata": {
        "id": "dYA2TMseekcv"
      },
      "source": [
        "from sklearn.base import BaseEstimator\n",
        "\n",
        "class Never5Classifier(BaseEstimator):\n",
        "    def fit(self, X, y = None):\n",
        "        pass\n",
        "    def predict(self, X):\n",
        "        return np.zeros((len(X), 1), dtype = bool)"
      ],
      "execution_count": null,
      "outputs": []
    },
    {
      "cell_type": "code",
      "metadata": {
        "colab": {
          "base_uri": "https://localhost:8080/"
        },
        "id": "1xVvWiejfNxv",
        "outputId": "4cb9ce82-4321-4b3a-abdb-b1b0a522340e"
      },
      "source": [
        "never_5_clf = Never5Classifier()\n",
        "cross_val_score(never_5_clf, X_train, y_train_5, cv = 3, scoring = \"accuracy\")"
      ],
      "execution_count": null,
      "outputs": [
        {
          "output_type": "execute_result",
          "data": {
            "text/plain": [
              "array([0.91125, 0.90855, 0.90915])"
            ]
          },
          "metadata": {},
          "execution_count": 15
        }
      ]
    },
    {
      "cell_type": "markdown",
      "metadata": {
        "id": "baxr4pf3fV9o"
      },
      "source": [
        "wait, what? That's 90% accuracy on a classifier that predicts the same thing EVERYTIME!!!\n",
        "\n",
        "That's because out of 70000 images, **only 10% images are of 5s** while the others are **not 5s**.\n",
        "\n",
        "Hence, if you always predicted that an image is **not 5**, you will be right 90% of times."
      ]
    },
    {
      "cell_type": "code",
      "metadata": {
        "id": "YycbZE9yfVM9"
      },
      "source": [
        "class Always5Classifier(BaseEstimator):\n",
        "    def fit(self, X, y = None):\n",
        "        pass\n",
        "    def predict(self, X):\n",
        "        return np.ones((len(X), 1), dtype = bool)"
      ],
      "execution_count": null,
      "outputs": []
    },
    {
      "cell_type": "code",
      "metadata": {
        "colab": {
          "base_uri": "https://localhost:8080/"
        },
        "id": "FRymUVDJfwnC",
        "outputId": "6b619880-25a4-4db0-d7d9-6a5d94dc9905"
      },
      "source": [
        "always_5_clf = Always5Classifier()\n",
        "cross_val_score(always_5_clf, X_train, y_train_5, cv = 3, scoring = \"accuracy\")"
      ],
      "execution_count": null,
      "outputs": [
        {
          "output_type": "execute_result",
          "data": {
            "text/plain": [
              "array([0.08875, 0.09145, 0.09085])"
            ]
          },
          "metadata": {},
          "execution_count": 17
        }
      ]
    },
    {
      "cell_type": "markdown",
      "metadata": {
        "id": "e9vEM5Bnf3vO"
      },
      "source": [
        "As expected, ~8-10% accuracy on a classifier that predicts 5 everytime."
      ]
    },
    {
      "cell_type": "markdown",
      "metadata": {
        "id": "juOv-0E5gtJu"
      },
      "source": [
        "So, this is obviously not a good metric to measure classifier."
      ]
    },
    {
      "cell_type": "markdown",
      "source": [
        "### Confusion Matrix\n",
        "\n",
        "\n",
        "\n",
        "*   The number of times class A was classified as class B is at the **Ath row** and **Bth column**!\n",
        "\n"
      ],
      "metadata": {
        "id": "wyPGmnq2d6H7"
      }
    },
    {
      "cell_type": "code",
      "metadata": {
        "id": "HIgMvu0Ff25o",
        "colab": {
          "base_uri": "https://localhost:8080/"
        },
        "outputId": "0e4bb765-acac-41dd-b70a-18ff328d632d"
      },
      "source": [
        "from sklearn.model_selection import cross_val_predict\n",
        "\n",
        "y_train_pred = cross_val_predict(sgd_clf, X_train, y_train_5, cv = 3)\n",
        "y_train_pred"
      ],
      "execution_count": null,
      "outputs": [
        {
          "output_type": "execute_result",
          "data": {
            "text/plain": [
              "array([ True, False, False, ...,  True, False, False])"
            ]
          },
          "metadata": {},
          "execution_count": 18
        }
      ]
    },
    {
      "cell_type": "markdown",
      "source": [
        "**cross_val_predict** will perform K-fold cross validation, but instead of returning the scores, it returns the predictions made on each test fold."
      ],
      "metadata": {
        "id": "Hkz1F4sxfMwQ"
      }
    },
    {
      "cell_type": "code",
      "source": [
        "from sklearn.metrics import confusion_matrix\n",
        "\n",
        "confusion_matrix(y_train_5, y_train_pred)"
      ],
      "metadata": {
        "colab": {
          "base_uri": "https://localhost:8080/"
        },
        "id": "ebCwei6tepw1",
        "outputId": "03270753-bb65-47ed-fb8e-9df4973de4cd"
      },
      "execution_count": null,
      "outputs": [
        {
          "output_type": "execute_result",
          "data": {
            "text/plain": [
              "array([[53892,   687],\n",
              "       [ 1891,  3530]])"
            ]
          },
          "metadata": {},
          "execution_count": 19
        }
      ]
    },
    {
      "cell_type": "markdown",
      "source": [
        "**REMEMBER**: Each row in confusion matrix represents **actual class**. Each column in confusion matrix represents **predicted class**."
      ],
      "metadata": {
        "id": "3u_SEbO0fd5T"
      }
    },
    {
      "cell_type": "markdown",
      "source": [
        "In our case, the first row contains non-five images, out of which 53892 were predicted correctly and 687 were predicted as fives.\n",
        "\n",
        "The second row contains fives, out of which 1891 were predicted wrongly and 3530 were predicted as fives."
      ],
      "metadata": {
        "id": "7OadF9r9fnsl"
      }
    },
    {
      "cell_type": "markdown",
      "source": [
        "##### Some metrics based on confusion matrix:\n",
        "1. Precision: accuracy of positive predictions. Ratio of instances predicted positively vs. instances falsely predicted positively.\n",
        "    \\begin{align}\n",
        "    \\frac{TP}{TP + FP}\n",
        "    \\end{align}"
      ],
      "metadata": {
        "id": "qnr1wCEHva6k"
      }
    },
    {
      "cell_type": "markdown",
      "source": [
        "This is typically used with another metric called **recall** or **sensitivity** or **true positive rate**.\n",
        "2. Recall: ratio of positive instances correctly detected. Ratio of positive instances predicted positively vs. positive instances predicted negatively.\n",
        "\n",
        "    \\begin{align}\n",
        "    \\frac{TP}{TP + FN}\n",
        "    \\end{align}"
      ],
      "metadata": {
        "id": "OYTyp1Guv3GS"
      }
    },
    {
      "cell_type": "code",
      "source": [
        "from sklearn.metrics import precision_score, recall_score\n",
        "\n",
        "precision_score(y_train_5, y_train_pred)"
      ],
      "metadata": {
        "colab": {
          "base_uri": "https://localhost:8080/"
        },
        "id": "aCaVBeaVwV8w",
        "outputId": "c82798fc-de2a-4d00-861a-64931309a610"
      },
      "execution_count": null,
      "outputs": [
        {
          "output_type": "execute_result",
          "data": {
            "text/plain": [
              "0.8370879772350012"
            ]
          },
          "metadata": {},
          "execution_count": 20
        }
      ]
    },
    {
      "cell_type": "markdown",
      "source": [
        "When our predictor **predicts five**, it is five only 83% of times."
      ],
      "metadata": {
        "id": "gmyAafmkxSMX"
      }
    },
    {
      "cell_type": "code",
      "source": [
        "recall_score(y_train_5, y_train_pred)"
      ],
      "metadata": {
        "colab": {
          "base_uri": "https://localhost:8080/"
        },
        "id": "X5vWk0OffcSy",
        "outputId": "e4956161-d913-4cb7-c320-a51729a23801"
      },
      "execution_count": null,
      "outputs": [
        {
          "output_type": "execute_result",
          "data": {
            "text/plain": [
              "0.6511713705958311"
            ]
          },
          "metadata": {},
          "execution_count": 21
        }
      ]
    },
    {
      "cell_type": "markdown",
      "source": [
        "Our predictor only **predicts 65% of 5s correctly**."
      ],
      "metadata": {
        "id": "70QTQmbTximn"
      }
    },
    {
      "cell_type": "markdown",
      "source": [
        "#### F1 Score!\n",
        "\n",
        "It is the **harmonic mean** of recall and precision.\n",
        "\n",
        "Regular mean treats all values equally, whereas harmonic mean gives much more weight to **low values** and hence, the score is high only when **recall and precision are both high**."
      ],
      "metadata": {
        "id": "n24YaJnyxygS"
      }
    },
    {
      "cell_type": "markdown",
      "source": [
        "\\begin{align}\n",
        "F_1 = \\frac{2}{\\frac{1}{precision} + \\frac{1}{recall}} = 2 * \\frac{precision * recall}{precision + recall} = \\frac{TP}{TP + \\frac{FN + FP}{2}}\n",
        "\\end{align}"
      ],
      "metadata": {
        "id": "p74mDUdQ2wGK"
      }
    },
    {
      "cell_type": "code",
      "source": [
        "from sklearn.metrics import f1_score\n",
        "f1_score(y_train_5, y_train_pred)"
      ],
      "metadata": {
        "colab": {
          "base_uri": "https://localhost:8080/"
        },
        "id": "9SjsManexhuD",
        "outputId": "a4a51fd7-dc91-44a6-88b1-cc9cd6320ce1"
      },
      "execution_count": null,
      "outputs": [
        {
          "output_type": "execute_result",
          "data": {
            "text/plain": [
              "0.7325171197343846"
            ]
          },
          "metadata": {},
          "execution_count": 22
        }
      ]
    },
    {
      "cell_type": "markdown",
      "source": [
        "This is a good overall measure, but may not be the best measure in every case.\n",
        "\n",
        "For example, if you trained a classifier **to detect videos safe for kids**, you would prefer a classifier where **many good videos are rejected** (low recall) but **only safe ones** are kept. (high precision).\n",
        "\n",
        "On the other hand, suppose you trained a classifier **to detect shoplifters on surveillance images**, you only care about **every shoplifter getting caught** (high recall), and it doesn't matter even if **someone is falsely predicted to be shoplifting** (low precision)."
      ],
      "metadata": {
        "id": "tNf1uDO2MsfW"
      }
    },
    {
      "cell_type": "code",
      "source": [
        "y_scores = cross_val_predict(sgd_clf, X_train, y_train_5, cv = 3, method = \"decision_function\")"
      ],
      "metadata": {
        "id": "NbEsXMxB3KcP"
      },
      "execution_count": 23,
      "outputs": []
    },
    {
      "cell_type": "code",
      "source": [
        "from sklearn.metrics import precision_recall_curve\n",
        "\n",
        "precisions, recalls, thresholds = precision_recall_curve(y_train_5, y_scores)"
      ],
      "metadata": {
        "id": "ZZs5RSiNO-ew"
      },
      "execution_count": 24,
      "outputs": []
    },
    {
      "cell_type": "code",
      "source": [
        "def plot_precision_recall_vs_threshold(precisions, recalls, thresholds):\n",
        "    plt.plot(thresholds, precisions[:-1], \"b--\", label = \"Precision\")\n",
        "    plt.plot(thresholds, recalls[:-1], \"g--\", label = \"Recall\")\n",
        "    plt.axis([-50000, 50000, 0, 1])"
      ],
      "metadata": {
        "id": "7Mtsguf5PMUA"
      },
      "execution_count": 39,
      "outputs": []
    },
    {
      "cell_type": "code",
      "source": [
        "plot_precision_recall_vs_threshold(precisions, recalls, thresholds)"
      ],
      "metadata": {
        "colab": {
          "base_uri": "https://localhost:8080/",
          "height": 269
        },
        "id": "RHPIRvUhRPB1",
        "outputId": "957247c0-805c-475c-c2ef-5d92ef7a8033"
      },
      "execution_count": 47,
      "outputs": [
        {
          "output_type": "display_data",
          "data": {
            "image/png": "[encoded data removed]",
            "text/plain": [
              "<Figure size 432x288 with 1 Axes>"
            ]
          },
          "metadata": {
            "needs_background": "light"
          }
        }
      ]
    },
    {
      "cell_type": "markdown",
      "source": [
        "Now, suppose we want 90% precision, so we can search for the first index where precision >= 0.90.\n",
        "\n",
        "Then we can take that corresponding threshold!"
      ],
      "metadata": {
        "id": "AyIXpSdPTF1Z"
      }
    },
    {
      "cell_type": "code",
      "source": [
        "threshold_90_precision = thresholds[np.argmax(precisions >= 0.90)]\n",
        "threshold_90_precision\n",
        "recall_90_precision = recalls[np.argmax(precisions >= 0.90)]"
      ],
      "metadata": {
        "id": "HJl-oAeyRTSA"
      },
      "execution_count": 51,
      "outputs": []
    },
    {
      "cell_type": "markdown",
      "source": [
        "Now, we can just use this threshold to get our predictions."
      ],
      "metadata": {
        "id": "Vz3TCi0ETl9B"
      }
    },
    {
      "cell_type": "code",
      "source": [
        "y_train_pred_90 = (y_scores >= threshold_90_precision)"
      ],
      "metadata": {
        "id": "3cuswCxmTjBR"
      },
      "execution_count": 43,
      "outputs": []
    },
    {
      "cell_type": "code",
      "source": [
        "precision_score(y_train_5, y_train_pred_90)"
      ],
      "metadata": {
        "colab": {
          "base_uri": "https://localhost:8080/"
        },
        "id": "jSl6cJJkTts1",
        "outputId": "670ebef0-0413-4bcc-ecd8-fe2d109e84c5"
      },
      "execution_count": 44,
      "outputs": [
        {
          "output_type": "execute_result",
          "data": {
            "text/plain": [
              "0.9000345901072293"
            ]
          },
          "metadata": {},
          "execution_count": 44
        }
      ]
    },
    {
      "cell_type": "markdown",
      "source": [
        "Perfect!"
      ],
      "metadata": {
        "id": "eg3DJmsqT1Hy"
      }
    },
    {
      "cell_type": "code",
      "source": [
        "recall_score(y_train_5, y_train_pred_90)"
      ],
      "metadata": {
        "colab": {
          "base_uri": "https://localhost:8080/"
        },
        "id": "4QsKDdynT0dT",
        "outputId": "16f16be7-5f84-47cd-c654-ef1b7b6e27ec"
      },
      "execution_count": 45,
      "outputs": [
        {
          "output_type": "execute_result",
          "data": {
            "text/plain": [
              "0.4799852425751706"
            ]
          },
          "metadata": {},
          "execution_count": 45
        }
      ]
    },
    {
      "cell_type": "code",
      "source": [
        "plot_precision_recall_vs_threshold(precisions, recalls, thresholds)\n",
        "plt.plot([threshold_90_precision, threshold_90_precision], [0., 0.9], \"r:\")  # Line separating area where precision < 90% and >= 90%.\n",
        "plt.plot([-50000, threshold_90_precision], [0.9, 0.9], \"r:\")                 # Same for precision\n",
        "plt.plot([-50000, threshold_90_precision], [recall_90_precision, recall_90_precision], \"r:\") # Line for recall\n",
        "plt.plot([threshold_90_precision], [0.9], \"ro\") # Intersection point for precision\n",
        "plt.plot([threshold_90_precision], [recall_90_precision], \"ro\") # Intersection point for recall\n",
        "plt.show()"
      ],
      "metadata": {
        "colab": {
          "base_uri": "https://localhost:8080/",
          "height": 269
        },
        "id": "BoVSB_yVT5aT",
        "outputId": "e46db09e-8cf8-4c50-de44-ade0c1855350"
      },
      "execution_count": 54,
      "outputs": [
        {
          "output_type": "display_data",
          "data": {
            "image/png": "[encoded data removed]",
            "text/plain": [
              "<Figure size 432x288 with 1 Axes>"
            ]
          },
          "metadata": {
            "needs_background": "light"
          }
        }
      ]
    },
    {
      "cell_type": "code",
      "source": [
        ""
      ],
      "metadata": {
        "id": "CVE6ZrgmUSey"
      },
      "execution_count": null,
      "outputs": []
    }
  ]
}