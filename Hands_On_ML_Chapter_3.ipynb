{
  "nbformat": 4,
  "nbformat_minor": 0,
  "metadata": {
    "colab": {
      "name": "Hands On ML Chapter 3.ipynb",
      "provenance": [],
      "collapsed_sections": [],
      "authorship_tag": "ABX9TyP8leEXPS9IMwk/scRCd+eR"
    },
    "kernelspec": {
      "name": "python3",
      "display_name": "Python 3"
    },
    "language_info": {
      "name": "python"
    }
  },
  "cells": [
    {
      "cell_type": "markdown",
      "metadata": {
        "id": "m1SBdp-Bh3Lc"
      },
      "source": [
        "#Hands On Machine Learning Chapter 3\n",
        "#Classification!"
      ]
    },
    {
      "cell_type": "markdown",
      "metadata": {
        "id": "Q5gpmrsAKt_c"
      },
      "source": [
        "We will use the MNIST dataset!"
      ]
    },
    {
      "cell_type": "code",
      "metadata": {
        "id": "QaZ_GO3shpTO"
      },
      "source": [
        "from sklearn.datasets import fetch_openml\n",
        "import numpy as np"
      ],
      "execution_count": null,
      "outputs": []
    },
    {
      "cell_type": "code",
      "metadata": {
        "colab": {
          "base_uri": "https://localhost:8080/"
        },
        "id": "Ka-XjtdbK6o4",
        "outputId": "ff661aae-ae1e-416f-ff9a-ce758e866ce1"
      },
      "source": [
        "mnist = fetch_openml('mnist_784', version = 1, as_frame = False)\n",
        "mnist.keys()"
      ],
      "execution_count": null,
      "outputs": [
        {
          "output_type": "execute_result",
          "data": {
            "text/plain": [
              "dict_keys(['data', 'target', 'frame', 'categories', 'feature_names', 'target_names', 'DESCR', 'details', 'url'])"
            ]
          },
          "metadata": {},
          "execution_count": 2
        }
      ]
    },
    {
      "cell_type": "markdown",
      "metadata": {
        "id": "KIHgpW0tK_rc"
      },
      "source": [
        "\n",
        "\n",
        "1.   DESCR -> dataset description\n",
        "2.   data -> one row per example and one column per feature\n",
        "3.   target -> array of labels\n"
      ]
    },
    {
      "cell_type": "code",
      "metadata": {
        "id": "qGFlB4PFK-lE"
      },
      "source": [
        "X, y = mnist[\"data\"], mnist[\"target\"]"
      ],
      "execution_count": null,
      "outputs": []
    },
    {
      "cell_type": "code",
      "metadata": {
        "colab": {
          "base_uri": "https://localhost:8080/"
        },
        "id": "E1ytaX6nLgLZ",
        "outputId": "11518a94-3151-40b7-b1ba-9963112a7b26"
      },
      "source": [
        "X.shape"
      ],
      "execution_count": null,
      "outputs": [
        {
          "output_type": "execute_result",
          "data": {
            "text/plain": [
              "(70000, 784)"
            ]
          },
          "metadata": {},
          "execution_count": 4
        }
      ]
    },
    {
      "cell_type": "code",
      "metadata": {
        "colab": {
          "base_uri": "https://localhost:8080/"
        },
        "id": "e8uCLPwuLhDe",
        "outputId": "d5364ae3-abd3-4d44-d858-c4669e7dfda3"
      },
      "source": [
        "y.shape"
      ],
      "execution_count": null,
      "outputs": [
        {
          "output_type": "execute_result",
          "data": {
            "text/plain": [
              "(70000,)"
            ]
          },
          "metadata": {},
          "execution_count": 5
        }
      ]
    },
    {
      "cell_type": "markdown",
      "metadata": {
        "id": "k7B3XIz9Lil0"
      },
      "source": [
        "> There are 70,000 images and 784 features as each image is 28x28 pixels grayscale.\n",
        "\n",
        "> Each pixel has a value between 0 (white) and 255 (black)."
      ]
    },
    {
      "cell_type": "code",
      "metadata": {
        "colab": {
          "base_uri": "https://localhost:8080/",
          "height": 248
        },
        "id": "99TdJmZxLhlM",
        "outputId": "08d1e7cb-1a4e-438d-c306-956423e3d008"
      },
      "source": [
        "import matplotlib as mpl\n",
        "import matplotlib.pyplot as plt\n",
        "\n",
        "\n",
        "some_digit = X[27]\n",
        "some_digit_image = some_digit.reshape(28, 28)\n",
        "\n",
        "plt.imshow(some_digit_image, cmap = mpl.cm.binary, interpolation = \"nearest\")\n",
        "plt.axis(\"off\")\n",
        "plt.show()"
      ],
      "execution_count": null,
      "outputs": [
        {
          "output_type": "display_data",
          "data": {
            "image/png": "[encoded data removed]",
            "text/plain": [
              "<Figure size 432x288 with 1 Axes>"
            ]
          },
          "metadata": {
            "needs_background": "light"
          }
        }
      ]
    },
    {
      "cell_type": "markdown",
      "metadata": {
        "id": "LBLMqOQMNaBK"
      },
      "source": [
        "That's a 3 if I 'er seen one."
      ]
    },
    {
      "cell_type": "code",
      "metadata": {
        "colab": {
          "base_uri": "https://localhost:8080/",
          "height": 35
        },
        "id": "HHv6rliVMHjD",
        "outputId": "122a62ce-8013-4e99-d751-182e207dd5b7"
      },
      "source": [
        "y[27]"
      ],
      "execution_count": null,
      "outputs": [
        {
          "output_type": "execute_result",
          "data": {
            "application/vnd.google.colaboratory.intrinsic+json": {
              "type": "string"
            },
            "text/plain": [
              "'3'"
            ]
          },
          "metadata": {},
          "execution_count": 7
        }
      ]
    },
    {
      "cell_type": "code",
      "metadata": {
        "id": "1Izq2BfzW04M"
      },
      "source": [
        "y = y.astype(np.uint8)"
      ],
      "execution_count": null,
      "outputs": []
    },
    {
      "cell_type": "markdown",
      "metadata": {
        "id": "mB8RdIefXHYD"
      },
      "source": [
        "This MNIST dataset is already split into 60000 (training) and the last 10000(test) images."
      ]
    },
    {
      "cell_type": "code",
      "metadata": {
        "id": "2s004Gt5W4C7"
      },
      "source": [
        "X_train, X_test, y_train, y_test = X[:60000], X[60000:], y[:60000], y[60000:]"
      ],
      "execution_count": null,
      "outputs": []
    },
    {
      "cell_type": "markdown",
      "metadata": {
        "id": "WKCxG22bc95m"
      },
      "source": [
        "## Binary Classifier\n",
        "\n",
        "\n",
        "Let us start with a simpler task of identifying if the digit is 5 or not."
      ]
    },
    {
      "cell_type": "code",
      "metadata": {
        "id": "-vYHpqECc9bu"
      },
      "source": [
        "y_train_5 = (y_train == 5)\n",
        "y_test_5 = (y_test == 5)"
      ],
      "execution_count": null,
      "outputs": []
    },
    {
      "cell_type": "markdown",
      "metadata": {
        "id": "Inxcn_z2dPW-"
      },
      "source": [
        "First, we will use SGD (Stochastic Gradient Descent) which is capable of handling large data sets and also usable for online learning."
      ]
    },
    {
      "cell_type": "code",
      "metadata": {
        "colab": {
          "base_uri": "https://localhost:8080/"
        },
        "id": "QtToA9JCdNGQ",
        "outputId": "c9df1385-8f0c-4f66-aaa2-c0f2290ae432"
      },
      "source": [
        "from sklearn.linear_model import SGDClassifier\n",
        "\n",
        "sgd_clf = SGDClassifier(random_state = 42)\n",
        "sgd_clf.fit(X_train, y_train_5)"
      ],
      "execution_count": null,
      "outputs": [
        {
          "output_type": "execute_result",
          "data": {
            "text/plain": [
              "SGDClassifier(random_state=42)"
            ]
          },
          "metadata": {},
          "execution_count": 11
        }
      ]
    },
    {
      "cell_type": "markdown",
      "metadata": {
        "id": "td54lqJIds96"
      },
      "source": [
        "Now, let's test it on a digit."
      ]
    },
    {
      "cell_type": "code",
      "metadata": {
        "colab": {
          "base_uri": "https://localhost:8080/"
        },
        "id": "iuOII7aPdmYV",
        "outputId": "08f4176a-8eb3-4348-983c-fc8301f76277"
      },
      "source": [
        "sgd_clf.predict([some_digit])"
      ],
      "execution_count": null,
      "outputs": [
        {
          "output_type": "execute_result",
          "data": {
            "text/plain": [
              "array([False])"
            ]
          },
          "metadata": {},
          "execution_count": 12
        }
      ]
    },
    {
      "cell_type": "markdown",
      "metadata": {
        "id": "mOGILC9QdxJu"
      },
      "source": [
        "It predicts a 3 as False! so that's correct :3"
      ]
    },
    {
      "cell_type": "markdown",
      "metadata": {
        "id": "WynOAE0pd4dj"
      },
      "source": [
        "# Model Evaluation!\n",
        "\n",
        "1. Cross Validation\n",
        "\n",
        "    **split training set into K-folds with 3 parts training and one part test, and compare those results.**"
      ]
    },
    {
      "cell_type": "code",
      "metadata": {
        "colab": {
          "base_uri": "https://localhost:8080/"
        },
        "id": "x0G0_q7bdwWe",
        "outputId": "8759e51c-62e8-429d-cac8-4bfbcd4974c0"
      },
      "source": [
        "from sklearn.model_selection import cross_val_score\n",
        "cross_val_score(sgd_clf, X_train, y_train_5, cv = 3, scoring = \"accuracy\")"
      ],
      "execution_count": null,
      "outputs": [
        {
          "output_type": "execute_result",
          "data": {
            "text/plain": [
              "array([0.95035, 0.96035, 0.9604 ])"
            ]
          },
          "metadata": {},
          "execution_count": 13
        }
      ]
    },
    {
      "cell_type": "markdown",
      "metadata": {
        "id": "f4tS7jXhemHQ"
      },
      "source": [
        "**IMPORTANT:** Accuracy is a metric as the ratio of correct predictions."
      ]
    },
    {
      "cell_type": "markdown",
      "metadata": {
        "id": "4Tjc02Utexi4"
      },
      "source": [
        "Results look good, but before we decide that this is the best classifier, let's look a classifier that predicts all images as not-five."
      ]
    },
    {
      "cell_type": "markdown",
      "metadata": {
        "id": "6rzSnq1Ze84j"
      },
      "source": [
        "### Dumb classifier"
      ]
    },
    {
      "cell_type": "code",
      "metadata": {
        "id": "dYA2TMseekcv"
      },
      "source": [
        "from sklearn.base import BaseEstimator\n",
        "\n",
        "class Never5Classifier(BaseEstimator):\n",
        "    def fit(self, X, y = None):\n",
        "        pass\n",
        "    def predict(self, X):\n",
        "        return np.zeros((len(X), 1), dtype = bool)"
      ],
      "execution_count": null,
      "outputs": []
    },
    {
      "cell_type": "code",
      "metadata": {
        "colab": {
          "base_uri": "https://localhost:8080/"
        },
        "id": "1xVvWiejfNxv",
        "outputId": "c2643e85-e8d2-4966-88a7-82d27136afbf"
      },
      "source": [
        "never_5_clf = Never5Classifier()\n",
        "cross_val_score(never_5_clf, X_train, y_train_5, cv = 3, scoring = \"accuracy\")"
      ],
      "execution_count": null,
      "outputs": [
        {
          "output_type": "execute_result",
          "data": {
            "text/plain": [
              "array([0.91125, 0.90855, 0.90915])"
            ]
          },
          "metadata": {},
          "execution_count": 15
        }
      ]
    },
    {
      "cell_type": "markdown",
      "metadata": {
        "id": "baxr4pf3fV9o"
      },
      "source": [
        "wait, what? That's 90% accuracy on a classifier that predicts the same thing EVERYTIME!!!\n",
        "\n",
        "That's because out of 70000 images, **only 10% images are of 5s** while the others are **not 5s**.\n",
        "\n",
        "Hence, if you always predicted that an image is **not 5**, you will be right 90% of times."
      ]
    },
    {
      "cell_type": "code",
      "metadata": {
        "id": "YycbZE9yfVM9"
      },
      "source": [
        "class Always5Classifier(BaseEstimator):\n",
        "    def fit(self, X, y = None):\n",
        "        pass\n",
        "    def predict(self, X):\n",
        "        return np.ones((len(X), 1), dtype = bool)"
      ],
      "execution_count": null,
      "outputs": []
    },
    {
      "cell_type": "code",
      "metadata": {
        "colab": {
          "base_uri": "https://localhost:8080/"
        },
        "id": "FRymUVDJfwnC",
        "outputId": "c46b43b2-1438-423a-826e-4a66a09106eb"
      },
      "source": [
        "always_5_clf = Always5Classifier()\n",
        "cross_val_score(always_5_clf, X_train, y_train_5, cv = 3, scoring = \"accuracy\")"
      ],
      "execution_count": null,
      "outputs": [
        {
          "output_type": "execute_result",
          "data": {
            "text/plain": [
              "array([0.08875, 0.09145, 0.09085])"
            ]
          },
          "metadata": {},
          "execution_count": 17
        }
      ]
    },
    {
      "cell_type": "markdown",
      "metadata": {
        "id": "e9vEM5Bnf3vO"
      },
      "source": [
        "As expected, ~8-10% accuracy on a classifier that predicts 5 everytime."
      ]
    },
    {
      "cell_type": "markdown",
      "metadata": {
        "id": "juOv-0E5gtJu"
      },
      "source": [
        "So, this is obviously not a good metric to measure classifier."
      ]
    },
    {
      "cell_type": "markdown",
      "source": [
        "### Confusion Matrix\n",
        "\n",
        "\n",
        "\n",
        "*   The number of times class A was classified as class B is at the **Ath row** and **Bth column**!\n",
        "\n"
      ],
      "metadata": {
        "id": "wyPGmnq2d6H7"
      }
    },
    {
      "cell_type": "code",
      "metadata": {
        "id": "HIgMvu0Ff25o",
        "colab": {
          "base_uri": "https://localhost:8080/"
        },
        "outputId": "7a388704-2450-431b-c26e-5a24c431dd71"
      },
      "source": [
        "from sklearn.model_selection import cross_val_predict\n",
        "\n",
        "y_train_pred = cross_val_predict(sgd_clf, X_train, y_train_5, cv = 3)\n",
        "y_train_pred"
      ],
      "execution_count": null,
      "outputs": [
        {
          "output_type": "execute_result",
          "data": {
            "text/plain": [
              "array([ True, False, False, ...,  True, False, False])"
            ]
          },
          "metadata": {},
          "execution_count": 18
        }
      ]
    },
    {
      "cell_type": "markdown",
      "source": [
        "**cross_val_predict** will perform K-fold cross validation, but instead of returning the scores, it returns the predictions made on each test fold."
      ],
      "metadata": {
        "id": "Hkz1F4sxfMwQ"
      }
    },
    {
      "cell_type": "code",
      "source": [
        "from sklearn.metrics import confusion_matrix\n",
        "\n",
        "confusion_matrix(y_train_5, y_train_pred)"
      ],
      "metadata": {
        "colab": {
          "base_uri": "https://localhost:8080/"
        },
        "id": "ebCwei6tepw1",
        "outputId": "4dec3d53-5670-4247-d0ff-3b5f5656b044"
      },
      "execution_count": null,
      "outputs": [
        {
          "output_type": "execute_result",
          "data": {
            "text/plain": [
              "array([[53892,   687],\n",
              "       [ 1891,  3530]])"
            ]
          },
          "metadata": {},
          "execution_count": 19
        }
      ]
    },
    {
      "cell_type": "markdown",
      "source": [
        "**REMEMBER**: Each row in confusion matrix represents **actual class**. Each column in confusion matrix represents **predicted class**."
      ],
      "metadata": {
        "id": "3u_SEbO0fd5T"
      }
    },
    {
      "cell_type": "markdown",
      "source": [
        "In our case, the first row contains non-five images, out of which 53892 were predicted correctly and 687 were predicted as fives.\n",
        "\n",
        "The second row contains fives, out of which 1891 were predicted wrongly and 3530 were predicted as fives."
      ],
      "metadata": {
        "id": "7OadF9r9fnsl"
      }
    },
    {
      "cell_type": "markdown",
      "source": [
        "##### Some metrics based on confusion matrix:\n",
        "1. Precision: accuracy of positive predictions. Ratio of instances predicted positively vs. instances falsely predicted positively.\n",
        "    \\begin{align}\n",
        "    \\frac{TP}{TP + FP}\n",
        "    \\end{align}"
      ],
      "metadata": {
        "id": "qnr1wCEHva6k"
      }
    },
    {
      "cell_type": "markdown",
      "source": [
        "This is typically used with another metric called **recall** or **sensitivity** or **true positive rate**.\n",
        "2. Recall: ratio of positive instances correctly detected. Ratio of positive instances predicted positively vs. positive instances predicted negatively.\n",
        "\n",
        "    \\begin{align}\n",
        "    \\frac{TP}{TP + FN}\n",
        "    \\end{align}"
      ],
      "metadata": {
        "id": "OYTyp1Guv3GS"
      }
    },
    {
      "cell_type": "code",
      "source": [
        "from sklearn.metrics import precision_score, recall_score\n",
        "\n",
        "precision_score(y_train_5, y_train_pred)"
      ],
      "metadata": {
        "colab": {
          "base_uri": "https://localhost:8080/"
        },
        "id": "aCaVBeaVwV8w",
        "outputId": "fb76442c-1a86-4e94-fd4d-fb29be42e3a5"
      },
      "execution_count": null,
      "outputs": [
        {
          "output_type": "execute_result",
          "data": {
            "text/plain": [
              "0.8370879772350012"
            ]
          },
          "metadata": {},
          "execution_count": 20
        }
      ]
    },
    {
      "cell_type": "markdown",
      "source": [
        "When our predictor **predicts five**, it is five only 83% of times."
      ],
      "metadata": {
        "id": "gmyAafmkxSMX"
      }
    },
    {
      "cell_type": "code",
      "source": [
        "recall_score(y_train_5, y_train_pred)"
      ],
      "metadata": {
        "colab": {
          "base_uri": "https://localhost:8080/"
        },
        "id": "X5vWk0OffcSy",
        "outputId": "8c7e75c0-e773-41c9-8819-861929cbc0b2"
      },
      "execution_count": null,
      "outputs": [
        {
          "output_type": "execute_result",
          "data": {
            "text/plain": [
              "0.6511713705958311"
            ]
          },
          "metadata": {},
          "execution_count": 21
        }
      ]
    },
    {
      "cell_type": "markdown",
      "source": [
        "Our predictor only **predicts 65% of 5s correctly**."
      ],
      "metadata": {
        "id": "70QTQmbTximn"
      }
    },
    {
      "cell_type": "markdown",
      "source": [
        "#### F1 Score!\n",
        "\n",
        "It is the **harmonic mean** of recall and precision.\n",
        "\n",
        "Regular mean treats all values equally, whereas harmonic mean gives much more weight to **low values** and hence, the score is high only when **recall and precision are both high**."
      ],
      "metadata": {
        "id": "n24YaJnyxygS"
      }
    },
    {
      "cell_type": "markdown",
      "source": [
        "\\begin{align}\n",
        "F_1 = \\frac{2}{\\frac{1}{precision} + \\frac{1}{recall}} = 2 * \\frac{precision * recall}{precision + recall} = \\frac{TP}{TP + \\frac{FN + FP}{2}}\n",
        "\\end{align}"
      ],
      "metadata": {
        "id": "p74mDUdQ2wGK"
      }
    },
    {
      "cell_type": "code",
      "source": [
        "from sklearn.metrics import f1_score\n",
        "f1_score(y_train_5, y_train_pred)"
      ],
      "metadata": {
        "colab": {
          "base_uri": "https://localhost:8080/"
        },
        "id": "9SjsManexhuD",
        "outputId": "59b2b866-93aa-4907-e228-e8e421d70d34"
      },
      "execution_count": null,
      "outputs": [
        {
          "output_type": "execute_result",
          "data": {
            "text/plain": [
              "0.7325171197343846"
            ]
          },
          "metadata": {},
          "execution_count": 22
        }
      ]
    },
    {
      "cell_type": "markdown",
      "source": [
        "This is a good overall measure, but may not be the best measure in every case.\n",
        "\n",
        "For example, if you trained a classifier **to detect videos safe for kids**, you would prefer a classifier where **many good videos are rejected** (low recall) but **only safe ones** are kept. (high precision).\n",
        "\n",
        "On the other hand, suppose you trained a classifier **to detect shoplifters on surveillance images**, you only care about **every shoplifter getting caught** (high recall), and it doesn't matter even if **someone is falsely predicted to be shoplifting** (low precision)."
      ],
      "metadata": {
        "id": "tNf1uDO2MsfW"
      }
    },
    {
      "cell_type": "code",
      "source": [
        "y_scores = cross_val_predict(sgd_clf, X_train, y_train_5, cv = 3, method = \"decision_function\")\n",
        "y_scores"
      ],
      "metadata": {
        "id": "NbEsXMxB3KcP",
        "colab": {
          "base_uri": "https://localhost:8080/"
        },
        "outputId": "426559f9-6a27-4931-c9dc-5556efb9bb53"
      },
      "execution_count": null,
      "outputs": [
        {
          "output_type": "execute_result",
          "data": {
            "text/plain": [
              "array([  1200.93051237, -26883.79202424, -33072.03475406, ...,\n",
              "        13272.12718981,  -7258.47203373, -16877.50840447])"
            ]
          },
          "metadata": {},
          "execution_count": 23
        }
      ]
    },
    {
      "cell_type": "code",
      "source": [
        "from sklearn.metrics import precision_recall_curve\n",
        "\n",
        "precisions, recalls, thresholds = precision_recall_curve(y_train_5, y_scores)"
      ],
      "metadata": {
        "id": "ZZs5RSiNO-ew"
      },
      "execution_count": null,
      "outputs": []
    },
    {
      "cell_type": "code",
      "source": [
        "def plot_precision_recall_vs_threshold(precisions, recalls, thresholds):\n",
        "    plt.plot(thresholds, precisions[:-1], \"b--\", label = \"Precision\")\n",
        "    plt.plot(thresholds, recalls[:-1], \"g--\", label = \"Recall\")\n",
        "    plt.axis([-50000, 50000, 0, 1])"
      ],
      "metadata": {
        "id": "7Mtsguf5PMUA"
      },
      "execution_count": null,
      "outputs": []
    },
    {
      "cell_type": "code",
      "source": [
        "plot_precision_recall_vs_threshold(precisions, recalls, thresholds)"
      ],
      "metadata": {
        "colab": {
          "base_uri": "https://localhost:8080/",
          "height": 269
        },
        "id": "RHPIRvUhRPB1",
        "outputId": "2d92bb4d-7158-4619-9203-a60d3f985a7a"
      },
      "execution_count": null,
      "outputs": [
        {
          "output_type": "display_data",
          "data": {
            "image/png": "[encoded data removed]",
            "text/plain": [
              "<Figure size 432x288 with 1 Axes>"
            ]
          },
          "metadata": {
            "needs_background": "light"
          }
        }
      ]
    },
    {
      "cell_type": "markdown",
      "source": [
        "Now, suppose we want 90% precision, so we can search for the first index where precision >= 0.90.\n",
        "\n",
        "Then we can take that corresponding threshold!"
      ],
      "metadata": {
        "id": "AyIXpSdPTF1Z"
      }
    },
    {
      "cell_type": "code",
      "source": [
        "threshold_90_precision = thresholds[np.argmax(precisions >= 0.90)]\n",
        "threshold_90_precision\n",
        "recall_90_precision = recalls[np.argmax(precisions >= 0.90)]"
      ],
      "metadata": {
        "id": "HJl-oAeyRTSA"
      },
      "execution_count": null,
      "outputs": []
    },
    {
      "cell_type": "markdown",
      "source": [
        "Now, we can just use this threshold to get our predictions."
      ],
      "metadata": {
        "id": "Vz3TCi0ETl9B"
      }
    },
    {
      "cell_type": "code",
      "source": [
        "y_train_pred_90 = (y_scores >= threshold_90_precision)"
      ],
      "metadata": {
        "id": "3cuswCxmTjBR"
      },
      "execution_count": null,
      "outputs": []
    },
    {
      "cell_type": "code",
      "source": [
        "precision_score(y_train_5, y_train_pred_90)"
      ],
      "metadata": {
        "colab": {
          "base_uri": "https://localhost:8080/"
        },
        "id": "jSl6cJJkTts1",
        "outputId": "68c075a5-f084-42b7-9a06-d3f3cb0f5a5f"
      },
      "execution_count": null,
      "outputs": [
        {
          "output_type": "execute_result",
          "data": {
            "text/plain": [
              "0.9000345901072293"
            ]
          },
          "metadata": {},
          "execution_count": 29
        }
      ]
    },
    {
      "cell_type": "markdown",
      "source": [
        "Perfect!"
      ],
      "metadata": {
        "id": "eg3DJmsqT1Hy"
      }
    },
    {
      "cell_type": "code",
      "source": [
        "recall_score(y_train_5, y_train_pred_90)"
      ],
      "metadata": {
        "colab": {
          "base_uri": "https://localhost:8080/"
        },
        "id": "4QsKDdynT0dT",
        "outputId": "001a9510-6ce3-4919-b43b-c00c9f075531"
      },
      "execution_count": null,
      "outputs": [
        {
          "output_type": "execute_result",
          "data": {
            "text/plain": [
              "0.4799852425751706"
            ]
          },
          "metadata": {},
          "execution_count": 30
        }
      ]
    },
    {
      "cell_type": "code",
      "source": [
        "plot_precision_recall_vs_threshold(precisions, recalls, thresholds)\n",
        "plt.plot([threshold_90_precision, threshold_90_precision], [0., 0.9], \"r:\")  # Line separating area where precision < 90% and >= 90%.\n",
        "plt.plot([-50000, threshold_90_precision], [0.9, 0.9], \"r:\")                 # Same for precision\n",
        "plt.plot([-50000, threshold_90_precision], [recall_90_precision, recall_90_precision], \"r:\") # Line for recall\n",
        "plt.plot([threshold_90_precision], [0.9], \"ro\") # Intersection point for precision\n",
        "plt.plot([threshold_90_precision], [recall_90_precision], \"ro\") # Intersection point for recall\n",
        "plt.show()"
      ],
      "metadata": {
        "colab": {
          "base_uri": "https://localhost:8080/",
          "height": 269
        },
        "id": "BoVSB_yVT5aT",
        "outputId": "c4655616-93f8-4d88-f9d7-2247d6b8e820"
      },
      "execution_count": null,
      "outputs": [
        {
          "output_type": "display_data",
          "data": {
            "image/png": "[encoded data removed]",
            "text/plain": [
              "<Figure size 432x288 with 1 Axes>"
            ]
          },
          "metadata": {
            "needs_background": "light"
          }
        }
      ]
    },
    {
      "cell_type": "markdown",
      "source": [
        "#### ROC Curve!\n",
        "\n",
        "**Receiver Operating Characteristic** Curve 😳😵\n",
        "\n",
        "It is the plot of **True Positive Rate (TPR)** or **Recall** and **False Positive Rate (FPR)** or **1 - True Negative Rate (TNR) (Specificity)**.\n",
        "\n",
        "FPR: ratio of negative instances falsely classified as positive."
      ],
      "metadata": {
        "id": "a0ddtKavec6G"
      }
    },
    {
      "cell_type": "markdown",
      "source": [
        "\\begin{align}\n",
        "    \\frac{FP}{TN + FP}\n",
        "\\end{align}"
      ],
      "metadata": {
        "id": "HdliJmgXfvJS"
      }
    },
    {
      "cell_type": "markdown",
      "source": [
        "So basically, how many negatives are falsely classified as positive?"
      ],
      "metadata": {
        "id": "M1o-IiZBghyA"
      }
    },
    {
      "cell_type": "code",
      "source": [
        "from sklearn.metrics import roc_curve\n",
        "\n",
        "fpr, tpr, thresholds = roc_curve(y_train_5, y_scores)"
      ],
      "metadata": {
        "id": "CVE6ZrgmUSey"
      },
      "execution_count": null,
      "outputs": []
    },
    {
      "cell_type": "code",
      "source": [
        "def plot_roc_curve(fpr, tpr, label = None):\n",
        "    plt.plot(fpr, tpr, linewidth = 2, label = label)\n",
        "    plt.plot([0, 1], [0, 1], 'k--')\n",
        "    plt.xlabel(\"How many negative examples gone unseen?\")\n",
        "    plt.ylabel(\"How many positive examples were seen?\")\n",
        "\n",
        "plot_roc_curve(fpr, tpr)\n",
        "plt.show()"
      ],
      "metadata": {
        "colab": {
          "base_uri": "https://localhost:8080/",
          "height": 279
        },
        "id": "VZbRzHQLhxL7",
        "outputId": "afddad90-67c6-40e6-ac87-f8aebcb04995"
      },
      "execution_count": null,
      "outputs": [
        {
          "output_type": "display_data",
          "data": {
            "image/png": "[encoded data removed]",
            "text/plain": [
              "<Figure size 432x288 with 1 Axes>"
            ]
          },
          "metadata": {
            "needs_background": "light"
          }
        }
      ]
    },
    {
      "cell_type": "markdown",
      "source": [
        "So, basically, a perfect classifier would have 0 False Positive Rate and 1 True Positive Rate.\n",
        "\n",
        "Meaning, no negative example should go unseen or should be falsely classified and all positive examples should be classifier correctly!"
      ],
      "metadata": {
        "id": "kJRVHMhsiQXX"
      }
    },
    {
      "cell_type": "markdown",
      "source": [
        "But again, there's a slight tradeoff.\n",
        "\n",
        "As the TPR increases, the FPR also increases."
      ],
      "metadata": {
        "id": "55lO41XqijgM"
      }
    },
    {
      "cell_type": "markdown",
      "source": [
        "##### AUC\n",
        "\n",
        "So, usually, this curve is defined by the area under its curve, often denoted as **Area Under the Curve**.\n",
        "\n",
        "For a perfect classifier, this area is equal to 1."
      ],
      "metadata": {
        "id": "CdMs9_IbifdQ"
      }
    },
    {
      "cell_type": "code",
      "source": [
        "from sklearn.metrics import roc_auc_score\n",
        "roc_auc_score(y_train_5, y_scores)"
      ],
      "metadata": {
        "colab": {
          "base_uri": "https://localhost:8080/"
        },
        "id": "qBSWPC9Oh7AW",
        "outputId": "a8af693c-dd24-4b1e-8d42-c1bf137e0850"
      },
      "execution_count": null,
      "outputs": [
        {
          "output_type": "execute_result",
          "data": {
            "text/plain": [
              "0.9604938554008616"
            ]
          },
          "metadata": {},
          "execution_count": 34
        }
      ]
    },
    {
      "cell_type": "markdown",
      "source": [
        "### Precision-Recall vs ROC\n",
        "\n"
      ],
      "metadata": {
        "id": "1wRZqkXsjiJi"
      }
    },
    {
      "cell_type": "markdown",
      "source": [
        "In general,\n",
        "\n",
        "**When positive class is rare**, **When you care more about false positives**, use **Precision-Recall** because if **false positives are more** or if **true negatives are more**, our ROC curve will be pushed towards the left side, and will be misleading. \n",
        "\n",
        "**Otherwise**, use **ROC**"
      ],
      "metadata": {
        "id": "NkdmSC2Qjp_N"
      }
    },
    {
      "cell_type": "markdown",
      "source": [
        "Let us compare SGDClassifier with RandomForestClassifier.\n",
        "\n",
        "For RandomForestClassifier, to get decision scores we have **predict_proba()**."
      ],
      "metadata": {
        "id": "SppY3Wz88oIt"
      }
    },
    {
      "cell_type": "code",
      "source": [
        "from sklearn.ensemble import RandomForestClassifier\n",
        "\n",
        "forest_clf = RandomForestClassifier(random_state = 42)\n",
        "y_probs_forest = cross_val_predict(forest_clf, X_train, y_train_5, cv = 3, method = \"predict_proba\")"
      ],
      "metadata": {
        "id": "iDMReTnqjh92"
      },
      "execution_count": null,
      "outputs": []
    },
    {
      "cell_type": "code",
      "source": [
        "pos_scores = y_probs_forest[:, 1]\n",
        "fpr_forest, tpr_forest, thresholds_forest = roc_curve(y_train_5, pos_scores)"
      ],
      "metadata": {
        "id": "ex1U5UA79P6Y"
      },
      "execution_count": null,
      "outputs": []
    },
    {
      "cell_type": "code",
      "source": [
        "plt.plot(fpr, tpr, \"b:\", label = \"SGD\")\n",
        "plot_roc_curve(fpr_forest, tpr_forest, \"RandomForest\")\n",
        "plt.legend(loc = \"lower right\")\n",
        "plt.show()"
      ],
      "metadata": {
        "colab": {
          "base_uri": "https://localhost:8080/",
          "height": 279
        },
        "id": "Os5Ibo6u-QYn",
        "outputId": "3b383d6e-0de3-4fcb-d9e7-d9199db822d0"
      },
      "execution_count": null,
      "outputs": [
        {
          "output_type": "display_data",
          "data": {
            "image/png": "[encoded data removed]",
            "text/plain": [
              "<Figure size 432x288 with 1 Axes>"
            ]
          },
          "metadata": {
            "needs_background": "light"
          }
        }
      ]
    },
    {
      "cell_type": "code",
      "source": [
        "roc_auc_score(y_train_5, pos_scores)"
      ],
      "metadata": {
        "colab": {
          "base_uri": "https://localhost:8080/"
        },
        "id": "X02lvxAT-cGM",
        "outputId": "9fb22cb3-034c-4271-b8a2-f4210608e20e"
      },
      "execution_count": null,
      "outputs": [
        {
          "output_type": "execute_result",
          "data": {
            "text/plain": [
              "0.9983436731328145"
            ]
          },
          "metadata": {},
          "execution_count": 38
        }
      ]
    },
    {
      "cell_type": "code",
      "source": [
        "preds = pos_scores >= 0.5"
      ],
      "metadata": {
        "id": "Ka5ZFq0TDy1z"
      },
      "execution_count": null,
      "outputs": []
    },
    {
      "cell_type": "code",
      "source": [
        "precision_score(y_train_5, preds)"
      ],
      "metadata": {
        "colab": {
          "base_uri": "https://localhost:8080/"
        },
        "id": "BNpPivWXDMXD",
        "outputId": "d0e077b0-1ca3-4828-c1b0-5e2c560383a3"
      },
      "execution_count": null,
      "outputs": [
        {
          "output_type": "execute_result",
          "data": {
            "text/plain": [
              "0.9897468089558485"
            ]
          },
          "metadata": {},
          "execution_count": 40
        }
      ]
    },
    {
      "cell_type": "code",
      "source": [
        "recall_score(y_train_5, preds)"
      ],
      "metadata": {
        "colab": {
          "base_uri": "https://localhost:8080/"
        },
        "id": "j0YiyYsbDSXI",
        "outputId": "918b8705-1bee-4ab1-85ff-f8e6fcafc0ca"
      },
      "execution_count": null,
      "outputs": [
        {
          "output_type": "execute_result",
          "data": {
            "text/plain": [
              "0.8725327430363402"
            ]
          },
          "metadata": {},
          "execution_count": 41
        }
      ]
    },
    {
      "cell_type": "markdown",
      "source": [
        "# Multiclass Classification!\n",
        "\n",
        "## One-versus-all (OvA)\n",
        "Train a binary classifier for each class which outputs a decision score, and then out of those we select the class with highest decision score.\n",
        "\n",
        "\n",
        "## One-versus-one (OvO)\n",
        "Train a binary classifer for each pair of classes: one for 0s and 1s, another for 0s and 2s, one for 1s and 2s, etc.\n",
        "\n",
        "This results in 45 binary classifiers for 10 classes.\n",
        "\n",
        "The main advantage here is that, each classifier has to be trained only on the part of the two classes it has to distinguish between."
      ],
      "metadata": {
        "id": "0UyYl90ql1uD"
      }
    },
    {
      "cell_type": "markdown",
      "source": [
        "**NOTE:** Scikit-Learn uses OvA except for SVM classifiers."
      ],
      "metadata": {
        "id": "bIsNbsZOm1z_"
      }
    },
    {
      "cell_type": "code",
      "source": [
        "sgd_clf.fit(X_train, y_train)\n",
        "sgd_clf.predict([some_digit])"
      ],
      "metadata": {
        "id": "YBvoSV0nD-NQ",
        "colab": {
          "base_uri": "https://localhost:8080/"
        },
        "outputId": "8128067e-334e-4e05-ea0e-ee6405586116"
      },
      "execution_count": null,
      "outputs": [
        {
          "output_type": "execute_result",
          "data": {
            "text/plain": [
              "array([3], dtype=uint8)"
            ]
          },
          "metadata": {},
          "execution_count": 42
        }
      ]
    },
    {
      "cell_type": "code",
      "source": [
        "some_digit_scores = sgd_clf.decision_function([some_digit])\n",
        "some_digit_scores"
      ],
      "metadata": {
        "colab": {
          "base_uri": "https://localhost:8080/"
        },
        "id": "1ryLbthanBKv",
        "outputId": "f638c79c-d9b5-4b0d-d342-73bef2252481"
      },
      "execution_count": null,
      "outputs": [
        {
          "output_type": "execute_result",
          "data": {
            "text/plain": [
              "array([[-40934.948741  , -42647.68638216, -10431.39688285,\n",
              "         12790.93016539, -31036.1849965 , -10439.85609919,\n",
              "        -88423.68582293, -19437.41602322,  -2361.34091491,\n",
              "        -18183.16922972]])"
            ]
          },
          "metadata": {},
          "execution_count": 43
        }
      ]
    },
    {
      "cell_type": "code",
      "source": [
        "from sklearn.multiclass import OneVsOneClassifier, OneVsRestClassifier\n",
        "ovo_clf = OneVsOneClassifier(SGDClassifier(random_state = 42))\n",
        "ovo_clf.fit(X_train, y_train)\n",
        "ovo_clf.predict([some_digit])"
      ],
      "metadata": {
        "colab": {
          "base_uri": "https://localhost:8080/"
        },
        "id": "z6691JgTnwkc",
        "outputId": "ace84331-6888-48c9-eff5-c69ee8ccc7cb"
      },
      "execution_count": null,
      "outputs": [
        {
          "output_type": "execute_result",
          "data": {
            "text/plain": [
              "array([3], dtype=uint8)"
            ]
          },
          "metadata": {},
          "execution_count": 44
        }
      ]
    },
    {
      "cell_type": "code",
      "source": [
        "len(ovo_clf.estimators_)"
      ],
      "metadata": {
        "colab": {
          "base_uri": "https://localhost:8080/"
        },
        "id": "xqplMCDJpaOC",
        "outputId": "d5b80fd2-a620-43fc-bd0f-753429f6a2c9"
      },
      "execution_count": null,
      "outputs": [
        {
          "output_type": "execute_result",
          "data": {
            "text/plain": [
              "45"
            ]
          },
          "metadata": {},
          "execution_count": 45
        }
      ]
    },
    {
      "cell_type": "code",
      "source": [
        "forest_clf.fit(X_train, y_train)\n",
        "forest_clf.predict([some_digit])"
      ],
      "metadata": {
        "colab": {
          "base_uri": "https://localhost:8080/"
        },
        "id": "02RzjTYFpr_A",
        "outputId": "353ebb6d-c2ea-484b-efdc-ac49a6306739"
      },
      "execution_count": null,
      "outputs": [
        {
          "output_type": "execute_result",
          "data": {
            "text/plain": [
              "array([3], dtype=uint8)"
            ]
          },
          "metadata": {},
          "execution_count": 46
        }
      ]
    },
    {
      "cell_type": "markdown",
      "source": [
        "For SGDClassifier, Scikit-Learn automatically uses OvA strategy, but Scikit-Learn doesnt have to do that for Random Forest Classifiers as they are already equipped for multiclass classification."
      ],
      "metadata": {
        "id": "SIiM9Olsp00J"
      }
    },
    {
      "cell_type": "code",
      "source": [
        "some_digit_scores = forest_clf.predict_proba([some_digit])\n",
        "some_digit_scores"
      ],
      "metadata": {
        "colab": {
          "base_uri": "https://localhost:8080/"
        },
        "id": "TSkAtngkpw_L",
        "outputId": "4d6f0382-7039-4133-fc85-eecfd71c3081"
      },
      "execution_count": null,
      "outputs": [
        {
          "output_type": "execute_result",
          "data": {
            "text/plain": [
              "array([[0.  , 0.  , 0.  , 0.98, 0.  , 0.  , 0.  , 0.  , 0.  , 0.02]])"
            ]
          },
          "metadata": {},
          "execution_count": 47
        }
      ]
    },
    {
      "cell_type": "code",
      "source": [
        "cross_val_score(sgd_clf, X_train, y_train, cv = 3, scoring = \"accuracy\")"
      ],
      "metadata": {
        "colab": {
          "base_uri": "https://localhost:8080/"
        },
        "id": "eMmf8L7iqJaC",
        "outputId": "8f6a952d-1793-4a56-a059-66447616d227"
      },
      "execution_count": null,
      "outputs": [
        {
          "output_type": "execute_result",
          "data": {
            "text/plain": [
              "array([0.87365, 0.85835, 0.8689 ])"
            ]
          },
          "metadata": {},
          "execution_count": 48
        }
      ]
    },
    {
      "cell_type": "code",
      "source": [
        "from sklearn.preprocessing import StandardScaler\n",
        "scaler = StandardScaler()\n",
        "X_train_scaled = scaler.fit_transform(X_train.astype(np.float64))\n",
        "cross_val_score(sgd_clf, X_train_scaled, y_train, cv = 3, scoring = \"accuracy\")"
      ],
      "metadata": {
        "id": "noC6II1RqSa7",
        "colab": {
          "base_uri": "https://localhost:8080/"
        },
        "outputId": "f175bb02-dd44-49af-cb28-5366f1496956"
      },
      "execution_count": null,
      "outputs": [
        {
          "output_type": "execute_result",
          "data": {
            "text/plain": [
              "array([0.8983, 0.891 , 0.9018])"
            ]
          },
          "metadata": {},
          "execution_count": 49
        }
      ]
    },
    {
      "cell_type": "markdown",
      "source": [
        "We can already see ~0.9 accuracy just by scaling the input."
      ],
      "metadata": {
        "id": "DAqG_6q2-si4"
      }
    },
    {
      "cell_type": "markdown",
      "source": [
        "Now, we will assume that we have already found a promising model, and will now find ways to improve it, rather than performing the steps in the previous chapter."
      ],
      "metadata": {
        "id": "yFoTbZgbCe5X"
      }
    },
    {
      "cell_type": "code",
      "source": [
        "y_train_pred = cross_val_predict(sgd_clf, X_train_scaled, y_train, cv = 3)\n",
        "confusion_mat = confusion_matrix(y_train, y_train_pred)\n",
        "confusion_mat"
      ],
      "metadata": {
        "id": "g6L_1PZ3zn9o",
        "colab": {
          "base_uri": "https://localhost:8080/"
        },
        "outputId": "fb67162f-2460-45ea-98f9-9bcc997bde48"
      },
      "execution_count": 51,
      "outputs": [
        {
          "output_type": "execute_result",
          "data": {
            "text/plain": [
              "array([[5577,    0,   22,    5,    8,   43,   36,    6,  225,    1],\n",
              "       [   0, 6400,   37,   24,    4,   44,    4,    7,  212,   10],\n",
              "       [  27,   27, 5220,   92,   73,   27,   67,   36,  378,   11],\n",
              "       [  22,   17,  117, 5227,    2,  203,   27,   40,  403,   73],\n",
              "       [  12,   14,   41,    9, 5182,   12,   34,   27,  347,  164],\n",
              "       [  27,   15,   30,  168,   53, 4444,   75,   14,  535,   60],\n",
              "       [  30,   15,   42,    3,   44,   97, 5552,    3,  131,    1],\n",
              "       [  21,   10,   51,   30,   49,   12,    3, 5684,  195,  210],\n",
              "       [  17,   63,   48,   86,    3,  126,   25,   10, 5429,   44],\n",
              "       [  25,   18,   30,   64,  118,   36,    1,  179,  371, 5107]])"
            ]
          },
          "metadata": {},
          "execution_count": 51
        }
      ]
    },
    {
      "cell_type": "code",
      "source": [
        "plt.matshow(confusion_mat, cmap = plt.cm.gray)\n",
        "plt.show()"
      ],
      "metadata": {
        "id": "9VZiFmlXCxuv",
        "colab": {
          "base_uri": "https://localhost:8080/",
          "height": 275
        },
        "outputId": "4985bb17-f3f0-4e4d-b665-29191b903c0f"
      },
      "execution_count": 52,
      "outputs": [
        {
          "output_type": "display_data",
          "data": {
            "image/png": "[encoded data removed]",
            "text/plain": [
              "<Figure size 288x288 with 1 Axes>"
            ]
          },
          "metadata": {
            "needs_background": "light"
          }
        }
      ]
    },
    {
      "cell_type": "markdown",
      "source": [
        "Looks pretty good! As the diagonal is fairly white, it means its predicting quite well.\n",
        "\n",
        "But, for the number 5, the diagonal square looks a more gray, meaning either there is not enough data for it, or it is not predicting 5s well."
      ],
      "metadata": {
        "id": "BZ2k2w75G1JB"
      }
    },
    {
      "cell_type": "markdown",
      "source": [
        "Now, to find the normalized error across all the classes, let us divide the values in confusion matrix by the number of images in the corresponding class."
      ],
      "metadata": {
        "id": "KuAIv_sIHVGb"
      }
    },
    {
      "cell_type": "code",
      "source": [
        "row_sums = confusion_mat.sum(axis = 1, keepdims = True)\n",
        "norm_confusion_mat = confusion_mat / row_sums\n",
        "plt.matshow(norm_confusion_mat, cmap = plt.cm.gray)\n",
        "plt.show()"
      ],
      "metadata": {
        "id": "kQXHX0WTGzes",
        "colab": {
          "base_uri": "https://localhost:8080/",
          "height": 275
        },
        "outputId": "b3475ba3-c02d-4422-ddb7-880a1de3855f"
      },
      "execution_count": 53,
      "outputs": [
        {
          "output_type": "display_data",
          "data": {
            "image/png": "[encoded data removed]",
            "text/plain": [
              "<Figure size 288x288 with 1 Axes>"
            ]
          },
          "metadata": {
            "needs_background": "light"
          }
        }
      ]
    },
    {
      "cell_type": "code",
      "source": [
        "norm_confusion_mat"
      ],
      "metadata": {
        "id": "l4i9k6V0Ho93",
        "colab": {
          "base_uri": "https://localhost:8080/"
        },
        "outputId": "26028964-dad4-43f8-a819-24c62ab8b516"
      },
      "execution_count": 54,
      "outputs": [
        {
          "output_type": "execute_result",
          "data": {
            "text/plain": [
              "array([[9.41583657e-01, 0.00000000e+00, 3.71433395e-03, 8.44166807e-04,\n",
              "        1.35066689e-03, 7.25983454e-03, 6.07800101e-03, 1.01300017e-03,\n",
              "        3.79875063e-02, 1.68833361e-04],\n",
              "       [0.00000000e+00, 9.49273213e-01, 5.48798576e-03, 3.55977455e-03,\n",
              "        5.93295758e-04, 6.52625334e-03, 5.93295758e-04, 1.03826758e-03,\n",
              "        3.14446752e-02, 1.48323939e-03],\n",
              "       [4.53172205e-03, 4.53172205e-03, 8.76132931e-01, 1.54414233e-02,\n",
              "        1.22524337e-02, 4.53172205e-03, 1.12453844e-02, 6.04229607e-03,\n",
              "        6.34441088e-02, 1.84625713e-03],\n",
              "       [3.58832164e-03, 2.77279400e-03, 1.90833469e-02, 8.52552602e-01,\n",
              "        3.26211059e-04, 3.31104224e-02, 4.40384929e-03, 6.52422117e-03,\n",
              "        6.57315283e-02, 1.19067036e-02],\n",
              "       [2.05409106e-03, 2.39643958e-03, 7.01814447e-03, 1.54056830e-03,\n",
              "        8.87024991e-01, 2.05409106e-03, 5.81992468e-03, 4.62170490e-03,\n",
              "        5.93974666e-02, 2.80725779e-02],\n",
              "       [4.98063088e-03, 2.76701716e-03, 5.53403431e-03, 3.09905921e-02,\n",
              "        9.77679395e-03, 8.19774949e-01, 1.38350858e-02, 2.58254935e-03,\n",
              "        9.86902785e-02, 1.10680686e-02],\n",
              "       [5.06928016e-03, 2.53464008e-03, 7.09699223e-03, 5.06928016e-04,\n",
              "        7.43494424e-03, 1.63906725e-02, 9.38154782e-01, 5.06928016e-04,\n",
              "        2.21358567e-02, 1.68976005e-04],\n",
              "       [3.35195531e-03, 1.59616919e-03, 8.14046289e-03, 4.78850758e-03,\n",
              "        7.82122905e-03, 1.91540303e-03, 4.78850758e-04, 9.07262570e-01,\n",
              "        3.11252993e-02, 3.35195531e-02],\n",
              "       [2.90548624e-03, 1.07673902e-02, 8.20372586e-03, 1.46983422e-02,\n",
              "        5.12732866e-04, 2.15347804e-02, 4.27277388e-03, 1.70910955e-03,\n",
              "        9.27875577e-01, 7.52008204e-03],\n",
              "       [4.20238696e-03, 3.02571861e-03, 5.04286435e-03, 1.07581106e-02,\n",
              "        1.98352664e-02, 6.05143722e-03, 1.68095478e-04, 3.00890906e-02,\n",
              "        6.23634224e-02, 8.58463607e-01]])"
            ]
          },
          "metadata": {},
          "execution_count": 54
        }
      ]
    },
    {
      "cell_type": "code",
      "source": [
        "np.fill_diagonal(norm_confusion_mat, 0)\n",
        "norm_confusion_mat"
      ],
      "metadata": {
        "id": "sqmlpw6AHy7S",
        "colab": {
          "base_uri": "https://localhost:8080/"
        },
        "outputId": "eccb1bb2-173e-46ce-fc22-82beed811684"
      },
      "execution_count": 55,
      "outputs": [
        {
          "output_type": "execute_result",
          "data": {
            "text/plain": [
              "array([[0.        , 0.        , 0.00371433, 0.00084417, 0.00135067,\n",
              "        0.00725983, 0.006078  , 0.001013  , 0.03798751, 0.00016883],\n",
              "       [0.        , 0.        , 0.00548799, 0.00355977, 0.0005933 ,\n",
              "        0.00652625, 0.0005933 , 0.00103827, 0.03144468, 0.00148324],\n",
              "       [0.00453172, 0.00453172, 0.        , 0.01544142, 0.01225243,\n",
              "        0.00453172, 0.01124538, 0.0060423 , 0.06344411, 0.00184626],\n",
              "       [0.00358832, 0.00277279, 0.01908335, 0.        , 0.00032621,\n",
              "        0.03311042, 0.00440385, 0.00652422, 0.06573153, 0.0119067 ],\n",
              "       [0.00205409, 0.00239644, 0.00701814, 0.00154057, 0.        ,\n",
              "        0.00205409, 0.00581992, 0.0046217 , 0.05939747, 0.02807258],\n",
              "       [0.00498063, 0.00276702, 0.00553403, 0.03099059, 0.00977679,\n",
              "        0.        , 0.01383509, 0.00258255, 0.09869028, 0.01106807],\n",
              "       [0.00506928, 0.00253464, 0.00709699, 0.00050693, 0.00743494,\n",
              "        0.01639067, 0.        , 0.00050693, 0.02213586, 0.00016898],\n",
              "       [0.00335196, 0.00159617, 0.00814046, 0.00478851, 0.00782123,\n",
              "        0.0019154 , 0.00047885, 0.        , 0.0311253 , 0.03351955],\n",
              "       [0.00290549, 0.01076739, 0.00820373, 0.01469834, 0.00051273,\n",
              "        0.02153478, 0.00427277, 0.00170911, 0.        , 0.00752008],\n",
              "       [0.00420239, 0.00302572, 0.00504286, 0.01075811, 0.01983527,\n",
              "        0.00605144, 0.0001681 , 0.03008909, 0.06236342, 0.        ]])"
            ]
          },
          "metadata": {},
          "execution_count": 55
        }
      ]
    },
    {
      "cell_type": "code",
      "source": [
        "plt.matshow(norm_confusion_mat, cmap = plt.cm.gray)\n",
        "plt.show()"
      ],
      "metadata": {
        "id": "tZ00_h_IH942",
        "colab": {
          "base_uri": "https://localhost:8080/",
          "height": 275
        },
        "outputId": "34035aac-4489-48a7-e690-c907f6db303b"
      },
      "execution_count": 56,
      "outputs": [
        {
          "output_type": "display_data",
          "data": {
            "image/png": "[encoded data removed]",
            "text/plain": [
              "<Figure size 288x288 with 1 Axes>"
            ]
          },
          "metadata": {
            "needs_background": "light"
          }
        }
      ]
    },
    {
      "cell_type": "markdown",
      "source": [
        "So, it can be seen that the column (predicted) for 8 is very bright, meaning that a lot of digits get classified as 8s.\n",
        "\n",
        "However, the row (true) for 8 is normal, meaning that 8s are also being classified as 8s."
      ],
      "metadata": {
        "id": "8Mtys0hgIWwU"
      }
    },
    {
      "cell_type": "markdown",
      "source": [
        "Now, to improve this, we should focus on reducing the false 8s by either gathering more training data for digits looking like 8 but are not 8s, or use some other preprocessing to distinguish between 8s and other digits."
      ],
      "metadata": {
        "id": "XlWTp8IOJW0Q"
      }
    },
    {
      "cell_type": "markdown",
      "source": [
        "To see why our classifier is doing this, let us plot some 5s and 8s."
      ],
      "metadata": {
        "id": "LWJM6g6PCTWH"
      }
    },
    {
      "cell_type": "code",
      "source": [
        "cl_a, cl_b = 5, 8\n",
        "X_aa = X_train[(y_train == cl_a) & (y_train_pred == cl_a)] # Images that are 5s and classified as 5s.\n",
        "X_ab = X_train[(y_train == cl_a) & (y_train_pred == cl_b)] # Images that are 5s but classified as 8s.\n",
        "X_ba = X_train[(y_train == cl_b) & (y_train_pred == cl_a)] # Images that are 8s but classified as 5s.\n",
        "X_bb = X_train[(y_train == cl_b) & (y_train_pred == cl_b)] # Images that are 8s and classified as 8s."
      ],
      "metadata": {
        "id": "59zoPv_AIJpP"
      },
      "execution_count": 57,
      "outputs": []
    },
    {
      "cell_type": "code",
      "source": [
        "from math import ceil\n",
        "def plot_digits(images, images_per_row, name):\n",
        "    total_rows = ceil(len(images) / images_per_row)\n",
        "    for i, j in enumerate(images, 1):\n",
        "        plt.subplot(total_rows, images_per_row, i)\n",
        "        plt.imshow(j.reshape(28, 28), cmap = mpl.cm.binary, interpolation = \"nearest\")\n",
        "        plt.axis(\"off\")\n",
        "    plt.savefig(name + \".jpg\")"
      ],
      "metadata": {
        "id": "Fr1sQV-t4B9-"
      },
      "execution_count": 85,
      "outputs": []
    },
    {
      "cell_type": "code",
      "source": [
        "example_images = X_train[:20]\n",
        "plot_digits(example_images, 5, \"example\")"
      ],
      "metadata": {
        "colab": {
          "base_uri": "https://localhost:8080/",
          "height": 248
        },
        "id": "slckpG87_9tp",
        "outputId": "11353e15-7867-4aec-ef9b-4a467f630377"
      },
      "execution_count": 86,
      "outputs": [
        {
          "output_type": "display_data",
          "data": {
            "image/png": "[encoded data removed]",
            "text/plain": [
              "<Figure size 432x288 with 20 Axes>"
            ]
          },
          "metadata": {
            "needs_background": "light"
          }
        }
      ]
    },
    {
      "cell_type": "code",
      "source": [
        "plot_digits(X_aa[:25], 5, \"5s\")\n",
        "plot_digits(X_ab[:25], 5, \"5s classified 8s\")\n",
        "plot_digits(X_ba[:25], 5, \"8s classified 5s\")\n",
        "plot_digits(X_bb[:25], 5, \"8s\")"
      ],
      "metadata": {
        "colab": {
          "base_uri": "https://localhost:8080/",
          "height": 303
        },
        "id": "XgK117BXEqzw",
        "outputId": "0f0b1d61-ffe2-4084-a1b5-c8d71c9b65ca"
      },
      "execution_count": 88,
      "outputs": [
        {
          "output_type": "stream",
          "name": "stderr",
          "text": [
            "/usr/local/lib/python3.7/dist-packages/ipykernel_launcher.py:5: MatplotlibDeprecationWarning: Adding an axes using the same arguments as a previous axes currently reuses the earlier instance.  In a future version, a new instance will always be created and returned.  Meanwhile, this warning can be suppressed, and the future behavior ensured, by passing a unique label to each axes instance.\n",
            "  \"\"\"\n"
          ]
        },
        {
          "output_type": "display_data",
          "data": {
            "image/png": "[encoded data removed]",
            "text/plain": [
              "<Figure size 432x288 with 25 Axes>"
            ]
          },
          "metadata": {
            "needs_background": "light"
          }
        }
      ]
    },
    {
      "cell_type": "code",
      "source": [
        "import matplotlib.image as mpimg\n",
        "img1 = mpimg.imread(\"5s.jpg\")\n",
        "img2 = mpimg.imread(\"5s classified 8s.jpg\")\n",
        "img3 = mpimg.imread(\"8s classified 5s.jpg\")\n",
        "img4 = mpimg.imread(\"8s.jpg\")\n",
        "plt.subplot(221); plt.imshow(img1)\n",
        "plt.subplot(222); plt.imshow(img2)\n",
        "plt.subplot(223); plt.imshow(img3)\n",
        "plt.subplot(224); plt.imshow(img4)\n",
        "plt.show()"
      ],
      "metadata": {
        "colab": {
          "base_uri": "https://localhost:8080/",
          "height": 269
        },
        "id": "mnkxurkCAF2A",
        "outputId": "59031cbb-6942-4ac0-eecf-c97e5f6b6ff4"
      },
      "execution_count": 94,
      "outputs": [
        {
          "output_type": "display_data",
          "data": {
            "image/png": "[encoded data removed]",
            "text/plain": [
              "<Figure size 432x288 with 4 Axes>"
            ]
          },
          "metadata": {
            "needs_background": "light"
          }
        }
      ]
    },
    {
      "cell_type": "markdown",
      "source": [
        "As can be seen, this mishap may be happening as we are using a linear SGD Classifier which is done by assigning a weight to a pixel."
      ],
      "metadata": {
        "id": "jjP-4ejoL23N"
      }
    },
    {
      "cell_type": "markdown",
      "source": [
        "## Multilabel Classification\n",
        "\n",
        "Till now, we have only seen classifiers where it outputs only one result.\n",
        "But multilabel classifiers are used to output multiple output classes for each instance.\n",
        "\n",
        "For example, if a multiclass classifier detects either a 3 or a 5 in a picture.\n",
        "A multilabel classifier would detect both 3 and 5 in a picture."
      ],
      "metadata": {
        "id": "LHZoBoiBMSmw"
      }
    },
    {
      "cell_type": "code",
      "source": [
        "from sklearn.neighbors import KNeighborsClassifier\n",
        "\n",
        "y_train_large = (y_train >= 7)\n",
        "y_train_odd = (y_train % 2 == 1)\n",
        "y_multilabel = np.c_[y_train_large, y_train_odd]  # This will assign two labels to each example, if the example is [large, odd].\n",
        "\n",
        "knn_clf = KNeighborsClassifier()\n",
        "knn_clf.fit(X_train, y_multilabel)"
      ],
      "metadata": {
        "colab": {
          "base_uri": "https://localhost:8080/"
        },
        "id": "9f4pyipeCvnQ",
        "outputId": "152ca0fd-4c08-4434-9270-60dd5ac648df"
      },
      "execution_count": 97,
      "outputs": [
        {
          "output_type": "execute_result",
          "data": {
            "text/plain": [
              "KNeighborsClassifier()"
            ]
          },
          "metadata": {},
          "execution_count": 97
        }
      ]
    },
    {
      "cell_type": "markdown",
      "source": [
        "Now, let us have it classify the set of 5s."
      ],
      "metadata": {
        "id": "sLr55D4gNcHu"
      }
    },
    {
      "cell_type": "code",
      "source": [
        "results = knn_clf.predict(np.concatenate((X_aa, X_ab), axis = 0))"
      ],
      "metadata": {
        "id": "SFWt6tckNU1N"
      },
      "execution_count": 101,
      "outputs": []
    },
    {
      "cell_type": "code",
      "source": [
        "np.unique(results)"
      ],
      "metadata": {
        "colab": {
          "base_uri": "https://localhost:8080/"
        },
        "id": "gz6pq_owNjxc",
        "outputId": "be00d995-b651-4963-9e96-af7388933d9d"
      },
      "execution_count": 102,
      "outputs": [
        {
          "output_type": "execute_result",
          "data": {
            "text/plain": [
              "array([False,  True])"
            ]
          },
          "metadata": {},
          "execution_count": 102
        }
      ]
    },
    {
      "cell_type": "markdown",
      "source": [
        "Ok! So, seems like it predicted every 5 to be odd and not large! Which is absolutely correct."
      ],
      "metadata": {
        "id": "SWoidFZtOMFS"
      }
    },
    {
      "cell_type": "code",
      "source": [
        "y_train_knn_pred = cross_val_predict(knn_clf, X_train, y_multilabel, cv = 3)\n",
        "f1_score(y_multilabel, y_train_knn_pred, average = \"macro\")"
      ],
      "metadata": {
        "colab": {
          "base_uri": "https://localhost:8080/"
        },
        "id": "i1_1Ej-1OLZJ",
        "outputId": "5a703302-3eee-4114-a07e-2052b029dc5f"
      },
      "execution_count": 103,
      "outputs": [
        {
          "output_type": "execute_result",
          "data": {
            "text/plain": [
              "0.976410265560605"
            ]
          },
          "metadata": {},
          "execution_count": 103
        }
      ]
    },
    {
      "cell_type": "markdown",
      "source": [
        "## Multioutput Classification\n",
        "\n",
        "Each output is multilabel where each label is multiclass 😃help\n",
        "\n",
        "\n",
        "We will create a model that will remove noise from our dataset. Input are noisy images and the output is a cleaned image."
      ],
      "metadata": {
        "id": "Il1hma9ZQBPc"
      }
    },
    {
      "cell_type": "code",
      "source": [
        "noise = np.random.randint(0, 100, (len(X_train), 784))\n",
        "X_train_mod = X_train + noise\n",
        "noise = np.random.randint(0, 100, (len(X_test), 784))\n",
        "X_test_mod = X_test + noise\n",
        "y_train_mod = X_train\n",
        "y_test_mod = X_test"
      ],
      "metadata": {
        "id": "G98vxQfwOlEo"
      },
      "execution_count": 104,
      "outputs": []
    },
    {
      "cell_type": "code",
      "source": [
        "plot_digits(X_test_mod[:5], 5, \"modified noisy images\")"
      ],
      "metadata": {
        "colab": {
          "base_uri": "https://localhost:8080/",
          "height": 89
        },
        "id": "FeZlRCNkQino",
        "outputId": "6e44692f-2d41-4f10-e944-bfd991719e99"
      },
      "execution_count": 106,
      "outputs": [
        {
          "output_type": "display_data",
          "data": {
            "image/png": "[encoded data removed]",
            "text/plain": [
              "<Figure size 432x288 with 5 Axes>"
            ]
          },
          "metadata": {
            "needs_background": "light"
          }
        }
      ]
    },
    {
      "cell_type": "code",
      "source": [
        "knn_clf.fit(X_train_mod, y_train_mod)\n",
        "clean_digit = knn_clf.predict(X_test_mod[:5])\n",
        "plot_digits(clean_digit, 5, \"predicted clean images\")"
      ],
      "metadata": {
        "colab": {
          "base_uri": "https://localhost:8080/",
          "height": 89
        },
        "id": "poLWIM0GQrPd",
        "outputId": "a44a207b-2f76-4400-983d-1f4c5604029c"
      },
      "execution_count": 107,
      "outputs": [
        {
          "output_type": "display_data",
          "data": {
            "image/png": "[encoded data removed]",
            "text/plain": [
              "<Figure size 432x288 with 5 Axes>"
            ]
          },
          "metadata": {
            "needs_background": "light"
          }
        }
      ]
    },
    {
      "cell_type": "markdown",
      "source": [
        "O_O looks pretty well done!"
      ],
      "metadata": {
        "id": "YBTYrARIQ9tH"
      }
    },
    {
      "cell_type": "markdown",
      "source": [
        "# Exercises"
      ],
      "metadata": {
        "id": "A0dCv_7kRAqa"
      }
    },
    {
      "cell_type": "code",
      "source": [
        ""
      ],
      "metadata": {
        "id": "iu_1ppGFQ6tt"
      },
      "execution_count": null,
      "outputs": []
    }
  ]
}